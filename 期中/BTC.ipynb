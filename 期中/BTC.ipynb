{
 "cells": [
  {
   "cell_type": "code",
   "execution_count": 2,
   "metadata": {},
   "outputs": [],
   "source": [
    "import numpy as np\n",
    "import pandas as pd\n",
    "from sklearn.model_selection import train_test_split\n",
    "from sklearn.linear_model import HuberRegressor\n",
    "import matplotlib.pyplot as plt\n",
    "from sklearn import metrics \n",
    "import plotly.express as px\n",
    "import plotly.graph_objects as go\n",
    "from IPython.display import HTML\n",
    "import seaborn as sns\n",
    "from sklearn.preprocessing import StandardScaler\n",
    "from sklearn.pipeline import make_pipeline\n",
    "from sklearn.svm import SVC\n",
    "from sklearn.model_selection import GridSearchCV\n",
    "from sklearn.model_selection import cross_val_score"
   ]
  },
  {
   "cell_type": "code",
   "execution_count": 3,
   "metadata": {},
   "outputs": [
    {
     "data": {
      "text/html": [
       "<div>\n",
       "<style scoped>\n",
       "    .dataframe tbody tr th:only-of-type {\n",
       "        vertical-align: middle;\n",
       "    }\n",
       "\n",
       "    .dataframe tbody tr th {\n",
       "        vertical-align: top;\n",
       "    }\n",
       "\n",
       "    .dataframe thead th {\n",
       "        text-align: right;\n",
       "    }\n",
       "</style>\n",
       "<table border=\"1\" class=\"dataframe\">\n",
       "  <thead>\n",
       "    <tr style=\"text-align: right;\">\n",
       "      <th></th>\n",
       "      <th>date</th>\n",
       "      <th>open</th>\n",
       "      <th>high</th>\n",
       "      <th>low</th>\n",
       "      <th>close</th>\n",
       "    </tr>\n",
       "  </thead>\n",
       "  <tbody>\n",
       "    <tr>\n",
       "      <th>0</th>\n",
       "      <td>44378.0</td>\n",
       "      <td>34822.2</td>\n",
       "      <td>35206.4</td>\n",
       "      <td>32799.1</td>\n",
       "      <td>33505.1</td>\n",
       "    </tr>\n",
       "    <tr>\n",
       "      <th>1</th>\n",
       "      <td>44379.0</td>\n",
       "      <td>33501.1</td>\n",
       "      <td>33950.7</td>\n",
       "      <td>32733.8</td>\n",
       "      <td>33465.9</td>\n",
       "    </tr>\n",
       "    <tr>\n",
       "      <th>2</th>\n",
       "      <td>44380.0</td>\n",
       "      <td>33464.6</td>\n",
       "      <td>34929.1</td>\n",
       "      <td>33355.4</td>\n",
       "      <td>34595.3</td>\n",
       "    </tr>\n",
       "    <tr>\n",
       "      <th>3</th>\n",
       "      <td>44381.0</td>\n",
       "      <td>34580.0</td>\n",
       "      <td>35944.4</td>\n",
       "      <td>34295.9</td>\n",
       "      <td>35866.5</td>\n",
       "    </tr>\n",
       "    <tr>\n",
       "      <th>4</th>\n",
       "      <td>44382.0</td>\n",
       "      <td>35889.4</td>\n",
       "      <td>35889.4</td>\n",
       "      <td>33180.9</td>\n",
       "      <td>34169.8</td>\n",
       "    </tr>\n",
       "  </tbody>\n",
       "</table>\n",
       "</div>"
      ],
      "text/plain": [
       "      date     open     high      low    close\n",
       "0  44378.0  34822.2  35206.4  32799.1  33505.1\n",
       "1  44379.0  33501.1  33950.7  32733.8  33465.9\n",
       "2  44380.0  33464.6  34929.1  33355.4  34595.3\n",
       "3  44381.0  34580.0  35944.4  34295.9  35866.5\n",
       "4  44382.0  35889.4  35889.4  33180.9  34169.8"
      ]
     },
     "execution_count": 3,
     "metadata": {},
     "output_type": "execute_result"
    }
   ],
   "source": [
    "df = pd.read_csv(\"BTC1.csv\")\n",
    "df.head()"
   ]
  },
  {
   "cell_type": "code",
   "execution_count": 4,
   "metadata": {},
   "outputs": [],
   "source": [
    "y = df['close']\n",
    "X = df.drop(columns = ['close'],axis = 1)"
   ]
  },
  {
   "cell_type": "code",
   "execution_count": 5,
   "metadata": {},
   "outputs": [],
   "source": [
    "X_train, X_test, y_train, y_test = train_test_split(X, y, test_size = 0.25, random_state=46)"
   ]
  },
  {
   "cell_type": "code",
   "execution_count": 6,
   "metadata": {},
   "outputs": [
    {
     "data": {
      "text/html": [
       "<style>#sk-container-id-1 {color: black;background-color: white;}#sk-container-id-1 pre{padding: 0;}#sk-container-id-1 div.sk-toggleable {background-color: white;}#sk-container-id-1 label.sk-toggleable__label {cursor: pointer;display: block;width: 100%;margin-bottom: 0;padding: 0.3em;box-sizing: border-box;text-align: center;}#sk-container-id-1 label.sk-toggleable__label-arrow:before {content: \"▸\";float: left;margin-right: 0.25em;color: #696969;}#sk-container-id-1 label.sk-toggleable__label-arrow:hover:before {color: black;}#sk-container-id-1 div.sk-estimator:hover label.sk-toggleable__label-arrow:before {color: black;}#sk-container-id-1 div.sk-toggleable__content {max-height: 0;max-width: 0;overflow: hidden;text-align: left;background-color: #f0f8ff;}#sk-container-id-1 div.sk-toggleable__content pre {margin: 0.2em;color: black;border-radius: 0.25em;background-color: #f0f8ff;}#sk-container-id-1 input.sk-toggleable__control:checked~div.sk-toggleable__content {max-height: 200px;max-width: 100%;overflow: auto;}#sk-container-id-1 input.sk-toggleable__control:checked~label.sk-toggleable__label-arrow:before {content: \"▾\";}#sk-container-id-1 div.sk-estimator input.sk-toggleable__control:checked~label.sk-toggleable__label {background-color: #d4ebff;}#sk-container-id-1 div.sk-label input.sk-toggleable__control:checked~label.sk-toggleable__label {background-color: #d4ebff;}#sk-container-id-1 input.sk-hidden--visually {border: 0;clip: rect(1px 1px 1px 1px);clip: rect(1px, 1px, 1px, 1px);height: 1px;margin: -1px;overflow: hidden;padding: 0;position: absolute;width: 1px;}#sk-container-id-1 div.sk-estimator {font-family: monospace;background-color: #f0f8ff;border: 1px dotted black;border-radius: 0.25em;box-sizing: border-box;margin-bottom: 0.5em;}#sk-container-id-1 div.sk-estimator:hover {background-color: #d4ebff;}#sk-container-id-1 div.sk-parallel-item::after {content: \"\";width: 100%;border-bottom: 1px solid gray;flex-grow: 1;}#sk-container-id-1 div.sk-label:hover label.sk-toggleable__label {background-color: #d4ebff;}#sk-container-id-1 div.sk-serial::before {content: \"\";position: absolute;border-left: 1px solid gray;box-sizing: border-box;top: 0;bottom: 0;left: 50%;z-index: 0;}#sk-container-id-1 div.sk-serial {display: flex;flex-direction: column;align-items: center;background-color: white;padding-right: 0.2em;padding-left: 0.2em;position: relative;}#sk-container-id-1 div.sk-item {position: relative;z-index: 1;}#sk-container-id-1 div.sk-parallel {display: flex;align-items: stretch;justify-content: center;background-color: white;position: relative;}#sk-container-id-1 div.sk-item::before, #sk-container-id-1 div.sk-parallel-item::before {content: \"\";position: absolute;border-left: 1px solid gray;box-sizing: border-box;top: 0;bottom: 0;left: 50%;z-index: -1;}#sk-container-id-1 div.sk-parallel-item {display: flex;flex-direction: column;z-index: 1;position: relative;background-color: white;}#sk-container-id-1 div.sk-parallel-item:first-child::after {align-self: flex-end;width: 50%;}#sk-container-id-1 div.sk-parallel-item:last-child::after {align-self: flex-start;width: 50%;}#sk-container-id-1 div.sk-parallel-item:only-child::after {width: 0;}#sk-container-id-1 div.sk-dashed-wrapped {border: 1px dashed gray;margin: 0 0.4em 0.5em 0.4em;box-sizing: border-box;padding-bottom: 0.4em;background-color: white;}#sk-container-id-1 div.sk-label label {font-family: monospace;font-weight: bold;display: inline-block;line-height: 1.2em;}#sk-container-id-1 div.sk-label-container {text-align: center;}#sk-container-id-1 div.sk-container {/* jupyter's `normalize.less` sets `[hidden] { display: none; }` but bootstrap.min.css set `[hidden] { display: none !important; }` so we also need the `!important` here to be able to override the default hidden behavior on the sphinx rendered scikit-learn.org. See: https://github.com/scikit-learn/scikit-learn/issues/21755 */display: inline-block !important;position: relative;}#sk-container-id-1 div.sk-text-repr-fallback {display: none;}</style><div id=\"sk-container-id-1\" class=\"sk-top-container\"><div class=\"sk-text-repr-fallback\"><pre>HuberRegressor()</pre><b>In a Jupyter environment, please rerun this cell to show the HTML representation or trust the notebook. <br />On GitHub, the HTML representation is unable to render, please try loading this page with nbviewer.org.</b></div><div class=\"sk-container\" hidden><div class=\"sk-item\"><div class=\"sk-estimator sk-toggleable\"><input class=\"sk-toggleable__control sk-hidden--visually\" id=\"sk-estimator-id-1\" type=\"checkbox\" checked><label for=\"sk-estimator-id-1\" class=\"sk-toggleable__label sk-toggleable__label-arrow\">HuberRegressor</label><div class=\"sk-toggleable__content\"><pre>HuberRegressor()</pre></div></div></div></div></div>"
      ],
      "text/plain": [
       "HuberRegressor()"
      ]
     },
     "execution_count": 6,
     "metadata": {},
     "output_type": "execute_result"
    }
   ],
   "source": [
    "model = HuberRegressor()\n",
    "model.fit(X_train,y_train)"
   ]
  },
  {
   "cell_type": "code",
   "execution_count": 7,
   "metadata": {},
   "outputs": [],
   "source": [
    "y_pred = model.predict(X_test)"
   ]
  },
  {
   "cell_type": "code",
   "execution_count": 8,
   "metadata": {},
   "outputs": [
    {
     "name": "stdout",
     "output_type": "stream",
     "text": [
      "平均得分： 195433.85433454465\n"
     ]
    }
   ],
   "source": [
    "scores = cross_val_score(model, X, y, cv=5, scoring='neg_mean_squared_error')\n",
    "mean_score = -scores.mean()\n",
    "print(\"平均得分：\", mean_score)"
   ]
  },
  {
   "cell_type": "code",
   "execution_count": 9,
   "metadata": {},
   "outputs": [
    {
     "data": {
      "image/png": "[encoded data removed]",
      "text/plain": [
       "<Figure size 694.375x600 with 12 Axes>"
      ]
     },
     "metadata": {},
     "output_type": "display_data"
    }
   ],
   "source": [
    "sns.pairplot(df, vars=['high','low','open'],\n",
    "             hue = 'close',height = 2);"
   ]
  },
  {
   "cell_type": "code",
   "execution_count": 10,
   "metadata": {},
   "outputs": [
    {
     "data": {
      "image/png": "[encoded data removed]",
      "text/plain": [
       "<Figure size 512x384 with 1 Axes>"
      ]
     },
     "metadata": {},
     "output_type": "display_data"
    }
   ],
   "source": [
    "a = X_test.open\n",
    "b = y_test\n",
    "\n",
    "c = X_test.open\n",
    "d = y_pred\n",
    "\n",
    "plt.figure(dpi= 80)\n",
    "plt.scatter(a, b)\n",
    "plt.scatter(c, d)\n",
    "plt.legend([\"y_test\", \"y_pred\"])\n",
    "plt.xlabel(\"open\")\n",
    "plt.ylabel(\"close\")\n",
    "plt.title(\"BTC\")\n",
    "plt.show()"
   ]
  },
  {
   "cell_type": "code",
   "execution_count": 11,
   "metadata": {},
   "outputs": [
    {
     "data": {
      "text/plain": [
       "0.9989229743910816"
      ]
     },
     "execution_count": 11,
     "metadata": {},
     "output_type": "execute_result"
    }
   ],
   "source": [
    "model.score(X_test,y_test)"
   ]
  },
  {
   "cell_type": "code",
   "execution_count": 12,
   "metadata": {},
   "outputs": [
    {
     "data": {
      "text/html": [
       "<div>\n",
       "<style scoped>\n",
       "    .dataframe tbody tr th:only-of-type {\n",
       "        vertical-align: middle;\n",
       "    }\n",
       "\n",
       "    .dataframe tbody tr th {\n",
       "        vertical-align: top;\n",
       "    }\n",
       "\n",
       "    .dataframe thead th {\n",
       "        text-align: right;\n",
       "    }\n",
       "</style>\n",
       "<table border=\"1\" class=\"dataframe\">\n",
       "  <thead>\n",
       "    <tr style=\"text-align: right;\">\n",
       "      <th></th>\n",
       "      <th>date</th>\n",
       "      <th>open</th>\n",
       "      <th>high</th>\n",
       "      <th>low</th>\n",
       "    </tr>\n",
       "  </thead>\n",
       "  <tbody>\n",
       "    <tr>\n",
       "      <th>336</th>\n",
       "      <td>44714.0</td>\n",
       "      <td>29566.3</td>\n",
       "      <td>30381.2</td>\n",
       "      <td>29490.5</td>\n",
       "    </tr>\n",
       "    <tr>\n",
       "      <th>337</th>\n",
       "      <td>44715.0</td>\n",
       "      <td>30340.1</td>\n",
       "      <td>30674.0</td>\n",
       "      <td>29312.4</td>\n",
       "    </tr>\n",
       "    <tr>\n",
       "      <th>338</th>\n",
       "      <td>44716.0</td>\n",
       "      <td>29781.2</td>\n",
       "      <td>29923.7</td>\n",
       "      <td>29460.2</td>\n",
       "    </tr>\n",
       "    <tr>\n",
       "      <th>339</th>\n",
       "      <td>44717.0</td>\n",
       "      <td>29823.7</td>\n",
       "      <td>30157.8</td>\n",
       "      <td>29519.1</td>\n",
       "    </tr>\n",
       "    <tr>\n",
       "      <th>340</th>\n",
       "      <td>44718.0</td>\n",
       "      <td>29937.1</td>\n",
       "      <td>31738.6</td>\n",
       "      <td>29846.9</td>\n",
       "    </tr>\n",
       "    <tr>\n",
       "      <th>...</th>\n",
       "      <td>...</td>\n",
       "      <td>...</td>\n",
       "      <td>...</td>\n",
       "      <td>...</td>\n",
       "    </tr>\n",
       "    <tr>\n",
       "      <th>696</th>\n",
       "      <td>45074.0</td>\n",
       "      <td>26781.2</td>\n",
       "      <td>27957.9</td>\n",
       "      <td>26772.6</td>\n",
       "    </tr>\n",
       "    <tr>\n",
       "      <th>697</th>\n",
       "      <td>45075.0</td>\n",
       "      <td>27841.4</td>\n",
       "      <td>28455.4</td>\n",
       "      <td>27532.3</td>\n",
       "    </tr>\n",
       "    <tr>\n",
       "      <th>698</th>\n",
       "      <td>45076.0</td>\n",
       "      <td>27675.0</td>\n",
       "      <td>28049.5</td>\n",
       "      <td>27565.4</td>\n",
       "    </tr>\n",
       "    <tr>\n",
       "      <th>699</th>\n",
       "      <td>45077.0</td>\n",
       "      <td>27730.2</td>\n",
       "      <td>27843.6</td>\n",
       "      <td>26849.8</td>\n",
       "    </tr>\n",
       "    <tr>\n",
       "      <th>700</th>\n",
       "      <td>45078.0</td>\n",
       "      <td>27095.6</td>\n",
       "      <td>27350.4</td>\n",
       "      <td>26615.4</td>\n",
       "    </tr>\n",
       "  </tbody>\n",
       "</table>\n",
       "<p>365 rows × 4 columns</p>\n",
       "</div>"
      ],
      "text/plain": [
       "        date     open     high      low\n",
       "336  44714.0  29566.3  30381.2  29490.5\n",
       "337  44715.0  30340.1  30674.0  29312.4\n",
       "338  44716.0  29781.2  29923.7  29460.2\n",
       "339  44717.0  29823.7  30157.8  29519.1\n",
       "340  44718.0  29937.1  31738.6  29846.9\n",
       "..       ...      ...      ...      ...\n",
       "696  45074.0  26781.2  27957.9  26772.6\n",
       "697  45075.0  27841.4  28455.4  27532.3\n",
       "698  45076.0  27675.0  28049.5  27565.4\n",
       "699  45077.0  27730.2  27843.6  26849.8\n",
       "700  45078.0  27095.6  27350.4  26615.4\n",
       "\n",
       "[365 rows x 4 columns]"
      ]
     },
     "execution_count": 12,
     "metadata": {},
     "output_type": "execute_result"
    }
   ],
   "source": [
    "X_365 = X.iloc[-365:]\n",
    "X_365"
   ]
  },
  {
   "cell_type": "code",
   "execution_count": 13,
   "metadata": {},
   "outputs": [],
   "source": [
    "ypred365 = model.predict(X_365)"
   ]
  },
  {
   "cell_type": "code",
   "execution_count": 14,
   "metadata": {},
   "outputs": [
    {
     "name": "stdout",
     "output_type": "stream",
     "text": [
      "HuberRegressor BTC\n",
      "均方誤差（Mean Squared Error）: 186253.39087398676\n",
      "RMSE: 431.5708410840412\n",
      "R-squared: 0.9989229743910816\n",
      "SMAPE: 0.8191062330411638\n",
      "WAPE: 0.8072283458625908\n",
      "執行時間: 0.015004634857177734\n"
     ]
    }
   ],
   "source": [
    "from sklearn.linear_model import HuberRegressor\n",
    "import time\n",
    "from sklearn.metrics import mean_squared_error, r2_score\n",
    "import numpy as np\n",
    "\n",
    "def smape(y_true, y_pred):\n",
    "    return 100/len(y_true) * np.sum(2 * np.abs(y_pred - y_true) / (np.abs(y_true) + np.abs(y_pred)))\n",
    "\n",
    "def wape(y_true, y_pred, weights):\n",
    "    return 100 * np.sum(np.abs(y_true - y_pred) * weights) / np.sum(np.abs(y_true) * weights)\n",
    "\n",
    "clf = HuberRegressor(epsilon=1.35)\n",
    "\n",
    "clf.fit(X_train, y_train)\n",
    "start_time = time.time()\n",
    "\n",
    "clf.fit(X_train, y_train)\n",
    "y_pred = clf.predict(X_test)\n",
    "rmse = mean_squared_error(y_test, y_pred, squared=False)\n",
    "r2 = r2_score(y_test, y_pred)\n",
    "smape_val = smape(y_test, y_pred)\n",
    "weights_test = np.ones(len(y_test))\n",
    "wape_val = wape(y_test, y_pred, weights_test)\n",
    "\n",
    "end_time = time.time()\n",
    "mse = mean_squared_error(y_test, y_pred)\n",
    "\n",
    "print(\"HuberRegressor BTC\")\n",
    "print('均方誤差（Mean Squared Error）:', mse)\n",
    "print('RMSE:', rmse)\n",
    "print('R-squared:', r2)\n",
    "print('SMAPE:', smape_val)\n",
    "print('WAPE:', wape_val)\n",
    "print('執行時間:', end_time - start_time)"
   ]
  },
  {
   "cell_type": "code",
   "execution_count": 15,
   "metadata": {},
   "outputs": [
    {
     "data": {
      "application/vnd.plotly.v1+json": {
       "config": {
        "plotlyServerURL": "https://plot.ly"
       },
       "data": [
        {
         "diagonal": {
          "visible": false
         },
         "dimensions": [
          {
           "axis": {
            "matches": true
           },
           "label": "open",
           "values": [
            34822.2,
            33501.1,
            33464.6,
            34580,
            35889.4,
            34164.5,
            33765.9,
            34250.5,
            32686.8,
            33861.1,
            33429,
            34491.4,
            32866.9,
            32587.6,
            32859.6,
            31675.7,
            31742.7,
            31728.9,
            31848.2,
            30768.3,
            29702.4,
            31845,
            32145.2,
            32628.6,
            34125.4,
            34588.5,
            37129.9,
            38357.2,
            40102.4,
            39564.4,
            41202.8,
            41980.9,
            41086.4,
            39213.1,
            38332.6,
            39835.5,
            40930.8,
            42478.6,
            43599.7,
            44256.1,
            45732.6,
            45711.7,
            46353.1,
            44249.9,
            47582.4,
            47049.8,
            46883.8,
            46069.5,
            44777.7,
            44600.5,
            46621.6,
            49324.9,
            49197.8,
            48719.2,
            49564,
            48204.4,
            49091.3,
            47267.7,
            48997.4,
            48971.8,
            48914.6,
            48405.5,
            46949.1,
            48445.8,
            49828.6,
            50251.2,
            50228,
            51724.4,
            52119.1,
            46551.7,
            46072.3,
            46487.4,
            44596.7,
            45402.7,
            45288.4,
            45133.2,
            46656.4,
            48181.4,
            47676.4,
            47268.3,
            47908.6,
            47460.4,
            43509.9,
            41428.3,
            43263.5,
            44694.8,
            42960.2,
            42722.9,
            43583.1,
            43098.5,
            41871.8,
            41248,
            43758.7,
            48370.8,
            48152.9,
            47795,
            48933.4,
            51762.1,
            55103.4,
            54295.3,
            54189.9,
            54865.6,
            54834.3,
            57156.2,
            56058.6,
            57505.8,
            57762,
            61216.7,
            60677.5,
            60629.8,
            61779.5,
            64095.4,
            65811.3,
            62739.9,
            60395.8,
            61039.3,
            60967.6,
            62829.5,
            60828.7,
            58796.7,
            60726.8,
            62385.5,
            61490.4,
            61417.1,
            61134,
            62976.8,
            62810,
            61186.5,
            61121.7,
            61406.8,
            62841.1,
            66537,
            67304.6,
            65139.4,
            65207.1,
            63948.5,
            64285.3,
            64532.2,
            63969.4,
            60615.2,
            60004.9,
            56646.5,
            57890.7,
            59760,
            59179.1,
            56748.2,
            57588.6,
            57003.4,
            58931.3,
            54095.6,
            54895,
            56071.9,
            58113.1,
            57335.8,
            57104,
            56885,
            53431,
            49307,
            49335.7,
            50882.3,
            50268.9,
            50246.8,
            47960.2,
            47522.2,
            48853.8,
            50313.4,
            46907.8,
            48280.4,
            48764.2,
            47830.9,
            46515,
            46792.6,
            47323.5,
            46751.6,
            49296.5,
            49001.5,
            50777.4,
            50796.7,
            50629.8,
            51005.7,
            51035.4,
            47689.6,
            47284.1,
            47094.3,
            46308.6,
            47450.2,
            47264.8,
            46222.5,
            46147.8,
            43432.7,
            43176.6,
            41537.7,
            41911.1,
            42205.4,
            41602.5,
            42717.6,
            43860.5,
            42611.7,
            43263.5,
            43259,
            43209.7,
            42094,
            42493.7,
            41989.5,
            41172.6,
            36143.5,
            34878.6,
            35515.6,
            36382.2,
            36803.4,
            36531.3,
            36717.7,
            37662.6,
            38151.4,
            37798.7,
            38431.7,
            38717.8,
            37046.9,
            36951.9,
            40674.3,
            41604.8,
            41599.6,
            44100.8,
            44102.7,
            44606.8,
            43988.4,
            42167.7,
            42196.6,
            42397,
            42699.4,
            44195.7,
            44032.5,
            40742.8,
            39959.3,
            40035.4,
            38834.6,
            37557.1,
            37936.3,
            37670.8,
            37892.4,
            39443,
            39160.8,
            37815.3,
            42864.4,
            44170,
            44076.2,
            42500.6,
            39013.4,
            39476.8,
            38990,
            38222.9,
            38560,
            41900.4,
            39457.8,
            38924.5,
            39105.9,
            37734.1,
            39334.3,
            39478.8,
            40895.3,
            41008.3,
            41708,
            41971.3,
            41452.6,
            41136.4,
            42551.3,
            42509.9,
            43965.3,
            44317.2,
            44383.7,
            46585.9,
            47657.8,
            47290.7,
            47001.6,
            45770.9,
            46323.6,
            46249.5,
            46950.5,
            46463,
            45958.1,
            43845.8,
            43524.4,
            42580.4,
            42570.8,
            42736.2,
            39411.1,
            39701.7,
            41232.1,
            39974,
            40434.1,
            40518.4,
            40216.2,
            40813.5,
            41321.3,
            41504.8,
            40730.5,
            39623.1,
            39903,
            39641.3,
            40235.6,
            38333.9,
            39225.9,
            39853.5,
            38564,
            38301.1,
            38350,
            38643.5,
            37791.8,
            39741.1,
            36451.3,
            35955.5,
            35200.6,
            34450.4,
            30832.3,
            30224.3,
            28893.5,
            28359.3,
            29995.6,
            29662.8,
            31035.5,
            30130.8,
            30512.1,
            29171.2,
            30248.7,
            29148.4,
            29314.4,
            29981.7,
            29308.2,
            29548.5,
            29789.2,
            29546.4,
            28690,
            28983.5,
            29203.5,
            31785.7,
            31695.6,
            29566.3,
            30340.1,
            29781.2,
            29823.7,
            29937.1,
            31462.1,
            31375.8,
            30404.5,
            30114,
            29161.4,
            28528.8,
            27335.7,
            23026.9,
            21481.5,
            22188.3,
            20435.1,
            20531.7,
            18507.8,
            20375.3,
            20396,
            20949.8,
            19987.8,
            20667.1,
            21300.8,
            21489.4,
            21368.8,
            20791.5,
            20362.5,
            20270.8,
            18797.2,
            19375.7,
            19332,
            19275.8,
            19934.8,
            20355.6,
            20332.5,
            21655.6,
            21682,
            21696.3,
            21022.7,
            20220.4,
            19330.5,
            19906.2,
            20465.9,
            20959.7,
            21192.8,
            21023.9,
            21656.2,
            23651.8,
            23608.2,
            23213.3,
            22746.3,
            22245.5,
            22814.5,
            22029.9,
            20945.8,
            22680.1,
            23931.1,
            23798.1,
            23868.6,
            23595.4,
            23027.8,
            23084.4,
            23276.8,
            22494.6,
            23112.8,
            23183.8,
            23314.8,
            23851.6,
            23195.8,
            23967.2,
            24194.7,
            24129.1,
            24507.8,
            24352.2,
            24032.7,
            23951.8,
            23333.6,
            23362.4,
            21083.8,
            21121,
            21532.9,
            21097.9,
            21488.6,
            21594.4,
            21583.3,
            20641.4,
            19871.2,
            19965,
            20203.4,
            19886.9,
            20278.7,
            20084.2,
            19980.1,
            19752.1,
            19860.8,
            19751.9,
            18978.5,
            19365.1,
            19332.8,
            21256.9,
            21610.8,
            21520.1,
            22349.8,
            20150.4,
            20206.9,
            19827.4,
            19744.5,
            20034.3,
            19458.1,
            19520.3,
            18872.9,
            18467.3,
            19179,
            19008.5,
            18949.4,
            18740.1,
            19098,
            18982.9,
            19618.9,
            19431.3,
            19361.6,
            19288.3,
            19191,
            19557.1,
            20297.4,
            20052.6,
            19911.3,
            19571.7,
            19322.7,
            19483,
            19243.6,
            19003.7,
            19182.2,
            19403.1,
            19107.4,
            19069,
            19149.3,
            19515.4,
            19292.3,
            19194.4,
            19070.5,
            19155.6,
            19204.3,
            19542.2,
            19367.1,
            20237,
            20744.8,
            20408,
            20600.9,
            20850.4,
            20590,
            20480.7,
            20459.6,
            20108.7,
            20194.9,
            21180.7,
            21297.2,
            21138.4,
            20462.7,
            18491.1,
            16081.5,
            17904.2,
            16922.1,
            16806.2,
            16404.3,
            16385.4,
            16863.3,
            16652.8,
            16701.4,
            16647.2,
            16723.3,
            16273.2,
            15720.5,
            16165.1,
            16510.9,
            16598.3,
            16519.9,
            16414.6,
            16560.9,
            16214.2,
            16488.4,
            17146.7,
            16967.1,
            17044,
            16903,
            17105.3,
            16943.6,
            16974.1,
            16841.6,
            17203.3,
            17133.4,
            17137.7,
            17101.4,
            17159,
            17770.7,
            17836.5,
            17345.1,
            16727,
            16741.9,
            16764.6,
            16414.6,
            16868.8,
            16765.8,
            16795,
            16790.8,
            16824.9,
            16819.8,
            16835.9,
            16684.4,
            16509.7,
            16611.7,
            16575.1,
            16510.1,
            16594.6,
            16692.7,
            16670.7,
            16821.2,
            16831.2,
            16954.6,
            16932.4,
            16961.2,
            17202.8,
            17433.9,
            17556,
            18915.6,
            19854.7,
            20990.7,
            20915.2,
            21187,
            21234.5,
            20803.4,
            21064.2,
            22598.3,
            22902,
            22678.9,
            22934.4,
            22755.9,
            22937.7,
            22998.4,
            23014.7,
            22982.3,
            23764.8,
            22732.5,
            23182.1,
            23715.9,
            23561.4,
            23423.5,
            23406.1,
            22976.1,
            22880.3,
            23230.1,
            22884.4,
            21765.8,
            21574.4,
            21826.1,
            21796.7,
            21651.9,
            22197.2,
            24157,
            23997.9,
            24681.1,
            24631,
            24494.3,
            24704.9,
            24384.6,
            24102.5,
            23869.4,
            23119,
            23119.9,
            23478.7,
            23483.7,
            23163.7,
            23535,
            23463.5,
            22321.9,
            22308.1,
            22428,
            22432.6,
            22102.6,
            21795.4,
            20345.2,
            20167.4,
            20483.2,
            21934.6,
            24299.7,
            24801.3,
            24464,
            25043.9,
            27686.2,
            27003.9,
            28198,
            28054.7,
            28121.2,
            27283.8,
            28272.8,
            27328.3,
            27472.8,
            27856.6,
            27183.4,
            27201.1,
            28296.4,
            28076.4,
            28482.9,
            28488.3,
            28032.2,
            27725.4,
            28238,
            28191.2,
            27999,
            27911.8,
            27940.7,
            28456.2,
            29246.3,
            30219.4,
            29967.5,
            30312.8,
            30479.4,
            30291,
            30406,
            29469.6,
            30376.8,
            29190.7,
            28232.4,
            27277,
            27671.6,
            27519.2,
            27414.1,
            28269.4,
            28686.8,
            29656.8,
            29351.2,
            29247.2,
            29428,
            27992.8,
            28677.9,
            28995.8,
            28850.4,
            29513.6,
            28857.6,
            28807.1,
            27562.3,
            27630.3,
            27533.3,
            27005,
            26771.5,
            26876,
            26922.8,
            27381.6,
            27020.6,
            27378.6,
            26928,
            26913.9,
            27057.4,
            26761.2,
            26914,
            27202,
            26370.3,
            26473.9,
            26730.6,
            26781.2,
            27841.4,
            27675,
            27730.2,
            27095.6
           ]
          },
          {
           "axis": {
            "matches": true
           },
           "label": "high",
           "values": [
            35206.4,
            33950.7,
            34929.1,
            35944.4,
            35889.4,
            35088.7,
            35044.8,
            34290.5,
            34002.3,
            34230.2,
            34578.6,
            34635.9,
            33324.9,
            33064.6,
            33184.1,
            32254.9,
            31950.8,
            32438.9,
            31942.8,
            31061.8,
            32811.3,
            32596.5,
            32885.9,
            34516.8,
            34818.6,
            40533.9,
            38771.1,
            40883.8,
            40627.7,
            41497.5,
            42312.5,
            42577.9,
            41201.4,
            39774.4,
            39953.3,
            41402.7,
            43274.9,
            44553.1,
            45299.5,
            46464.2,
            46653.9,
            46760.8,
            46353.1,
            47830.3,
            48128.1,
            47365,
            48053,
            47095.9,
            46021.5,
            46854.7,
            49303.9,
            49793.7,
            49466.5,
            50498.9,
            49858.1,
            49156.5,
            49353.7,
            49165.8,
            49304.6,
            49649.3,
            49396.4,
            48465.9,
            49018.2,
            50358,
            51017.4,
            50544.8,
            51808.1,
            52205.3,
            52913,
            47348.1,
            47298.9,
            47025.4,
            45984.9,
            46213.2,
            46815.7,
            46955.2,
            48445.6,
            48493.4,
            48166.7,
            48790.4,
            48366.9,
            47607.9,
            43917.9,
            44000.9,
            44930.7,
            45130.4,
            43118.1,
            43729.2,
            44338.6,
            43399.5,
            42571.2,
            44097.5,
            48439.2,
            48462.5,
            49182.5,
            49498.7,
            51884.6,
            55373.1,
            55652.9,
            55994.7,
            55448.4,
            56447.1,
            57819.2,
            57634,
            57700.6,
            58510.9,
            62852.3,
            62331.5,
            61420.2,
            62618.2,
            64334.6,
            66961.2,
            66642.9,
            63716.1,
            61730.6,
            61479.2,
            63703.9,
            63279.4,
            61465.8,
            62194.1,
            62954.2,
            62473.5,
            62388.4,
            62470.2,
            64278.6,
            63543.1,
            63098.2,
            62610.4,
            61589.5,
            63097,
            66554.5,
            68501.6,
            68976.5,
            65578.6,
            65462.5,
            64963.6,
            65312.8,
            66334.8,
            63975.7,
            60830.9,
            60955.4,
            58395.5,
            59779.3,
            60046.7,
            59362.9,
            57880.7,
            57753.5,
            59444.4,
            59361.3,
            55314.4,
            56765.8,
            58900,
            59245,
            59112.9,
            57421.5,
            57660,
            53875.9,
            49783,
            51012.8,
            51988.7,
            51242.8,
            50843.4,
            50112.1,
            49300,
            50811.4,
            50397.5,
            48669.4,
            49500,
            49450.7,
            48009.8,
            47367.3,
            48290,
            47544.9,
            49330.1,
            49580,
            51391.5,
            51865.3,
            51169.8,
            51295.3,
            52093.7,
            51075.5,
            48141.9,
            47909.6,
            48558,
            47954.8,
            47981.1,
            47574.8,
            47556.9,
            47063.5,
            43800,
            43237.1,
            42300,
            42786.7,
            42280,
            43099.2,
            44324.6,
            44522.2,
            43466.1,
            43821.6,
            43485.5,
            43280.3,
            42687.7,
            42577.9,
            43518.1,
            41185.2,
            36849,
            36159.8,
            37471.4,
            37557.2,
            38898.2,
            37208.7,
            38011.4,
            38657.3,
            38369.3,
            38757.4,
            39284.8,
            38911.3,
            37159.1,
            40901.4,
            41946.9,
            42192.7,
            44526.2,
            45523.6,
            44848.3,
            45861.2,
            44078.4,
            43091.1,
            42780.6,
            42865.8,
            44526.7,
            44776.9,
            44190.7,
            40984.5,
            40462.2,
            40164.1,
            39499.4,
            38313.7,
            39262.9,
            39478.2,
            39699.4,
            40189.3,
            39871.6,
            44243.5,
            44971.4,
            45263.6,
            44213.3,
            42618.5,
            39620.8,
            39705.3,
            39553.4,
            39365.8,
            42592.5,
            42143.9,
            40248.3,
            39460,
            39311.7,
            39932.4,
            39888.8,
            41724.3,
            41483.8,
            42346.2,
            42417,
            42312,
            41555,
            43260,
            42796.5,
            44238.6,
            45121.2,
            44815.4,
            46818.5,
            48209.1,
            48115.6,
            47709.8,
            47609.5,
            46743.4,
            47223.4,
            46853,
            47406,
            47214.1,
            46059.4,
            43895.2,
            43979.6,
            42677.1,
            43423.3,
            42743.8,
            40658.1,
            41554.9,
            41508.3,
            40706.5,
            40715.8,
            40688.1,
            41105.6,
            41764.6,
            42200.3,
            42984.6,
            40819,
            39988,
            39948,
            40380.4,
            40796.9,
            39470.3,
            40376.7,
            39926.8,
            38799.2,
            38667.8,
            39169.9,
            38903.5,
            40020,
            39833.6,
            36665.7,
            36142.7,
            35711.2,
            34466.2,
            32640.7,
            32090.5,
            30069.7,
            30954.3,
            30087.9,
            31169,
            31362.3,
            30718.6,
            30652.6,
            30506.4,
            30715.4,
            29617.3,
            30271.9,
            30632.1,
            29610.2,
            30190.5,
            29853.8,
            29640,
            29174.1,
            29445.6,
            32183,
            32373.1,
            31957.2,
            30381.2,
            30674,
            29923.7,
            30157.8,
            31738.6,
            31554.4,
            31467.6,
            30673.6,
            30337.3,
            29407.6,
            28651.1,
            27415.3,
            23138,
            22416.6,
            22548.1,
            21334.3,
            20750.4,
            20660.8,
            21045.7,
            21700.6,
            20979,
            21098.1,
            21430.7,
            21588.8,
            21867.2,
            21519.4,
            21192.8,
            20429.5,
            20300.3,
            20870.1,
            19438.2,
            19614.2,
            20095.2,
            20723.9,
            20455.5,
            21820.7,
            22487,
            21956.8,
            21737.1,
            21022.8,
            20221.8,
            20091.8,
            20884.7,
            21185.8,
            21566.3,
            21658.9,
            22767.3,
            23804.1,
            24275.2,
            23639.9,
            23761.4,
            22998.3,
            22906.9,
            23013.1,
            22029.9,
            23109,
            24200.9,
            24443.9,
            24669.4,
            24194.2,
            23596.4,
            23457.2,
            23629.5,
            23283.7,
            23471.3,
            23352.2,
            23404.4,
            24246,
            23935.3,
            24230.6,
            24889.4,
            24291.2,
            24898,
            25040.6,
            25214.6,
            24251.2,
            24445.2,
            23598.9,
            23402.9,
            21370.3,
            21800,
            21669.1,
            21665.4,
            21840,
            21816.1,
            21826.1,
            20682.7,
            20161.1,
            20428.1,
            20575.1,
            20488.4,
            20290.6,
            20442.2,
            20055.2,
            19955.9,
            20058.4,
            20177.1,
            19461.9,
            19447.5,
            21439.1,
            21799.5,
            21866.6,
            22489.8,
            22739.8,
            20537,
            20395.1,
            19888.4,
            20189,
            20144.4,
            19678.6,
            19677.2,
            19727.6,
            19494.2,
            19520.9,
            19404.4,
            19178.9,
            19319.1,
            20383.3,
            19774.4,
            19665.1,
            20179.6,
            19483.7,
            19394.7,
            19649,
            20462.1,
            20386.1,
            20448.8,
            20056.7,
            19625.5,
            19555.8,
            19528,
            19266,
            19200.1,
            19508.7,
            19950.2,
            19226.8,
            19422.8,
            19676.7,
            19700.9,
            19372.2,
            19338.8,
            19247.7,
            19256.6,
            19596.1,
            19694.9,
            20416.8,
            21025.4,
            20909.1,
            20750.3,
            21084.8,
            20934.6,
            20839.9,
            20653.9,
            20798.6,
            20386.1,
            21300.1,
            21469.7,
            21365.2,
            21152.6,
            20694.2,
            18723.3,
            19503.4,
            20543.3,
            17203.5,
            16920,
            17163,
            17118.6,
            16987.9,
            16750.3,
            16987.4,
            16803.8,
            16756.1,
            16298.3,
            16283.4,
            16680,
            16795,
            16646,
            16689.1,
            16588.9,
            16567.7,
            16535.5,
            17241.4,
            17236,
            17105.2,
            17157.7,
            17150.6,
            17420.5,
            17102,
            17134.7,
            17298,
            17345.2,
            17226,
            17268.9,
            17219.8,
            17953.4,
            18377.6,
            17856.7,
            17528.3,
            16773.5,
            16860.9,
            16820.1,
            17055,
            16925.2,
            16867.2,
            16940.9,
            16859.5,
            16854,
            16915.6,
            16963.3,
            16776.9,
            16656.8,
            16657.2,
            16631.2,
            16619.2,
            16774.9,
            16771.3,
            16982.7,
            16872.2,
            17028.1,
            16976.2,
            17015.4,
            17394.8,
            17494.5,
            17593.3,
            19116.9,
            20001.6,
            21204.6,
            21073.7,
            21459.8,
            21595.2,
            21646.1,
            21188.4,
            22698,
            23374.4,
            23073.4,
            23173.1,
            23165.8,
            23814.8,
            23285.8,
            23501.3,
            23191.8,
            23963.7,
            23876.5,
            23306,
            23802.9,
            24252.3,
            23718.9,
            23573,
            23435.3,
            23139.3,
            23349.5,
            23446.5,
            23003,
            21942.3,
            21880.2,
            22088.4,
            21904.2,
            22307.8,
            24379.4,
            25190.4,
            25012.6,
            24876.2,
            25189.3,
            25098.3,
            25247.8,
            24478.5,
            24599.9,
            24132.3,
            23220.8,
            23675.6,
            23897.4,
            23600.5,
            23908.9,
            23795,
            23504.9,
            22409.5,
            22641.6,
            22598.3,
            22556.7,
            22267.6,
            21813.8,
            20380.1,
            20941.3,
            22084.5,
            24630.9,
            26558.8,
            25258.8,
            25224.9,
            27827.2,
            27778.6,
            28472,
            28553.4,
            28520.2,
            28872.3,
            28787.4,
            28499.1,
            27812.3,
            28175.3,
            28166.4,
            27517.2,
            28650.8,
            29187.3,
            28662.1,
            28821.7,
            28566.7,
            28505.7,
            28443.4,
            28777.5,
            28241.8,
            28113.8,
            28169.9,
            28492.3,
            29370.2,
            30578.1,
            30446.8,
            30607.8,
            31034.1,
            30617.9,
            30573.8,
            30425.5,
            30496.3,
            30427.6,
            29246.1,
            28371.5,
            27786.6,
            27883.2,
            27999.7,
            28314.5,
            30028.9,
            29893,
            29673.2,
            29471.8,
            29971.6,
            29447.2,
            28896.3,
            29065.5,
            29383.2,
            29673,
            29849.2,
            29134.6,
            28874.9,
            27841.4,
            28345.8,
            27751.7,
            27113.4,
            27031.6,
            27167.5,
            27682.9,
            27387.2,
            27506.8,
            27499.1,
            27164.9,
            27172.4,
            27282.5,
            27073.9,
            27492.8,
            27252.4,
            26618.7,
            26939.7,
            26852.8,
            27957.9,
            28455.4,
            28049.5,
            27843.6,
            27350.4
           ]
          },
          {
           "axis": {
            "matches": true
           },
           "label": "low",
           "values": [
            32799.1,
            32733.8,
            33355.4,
            34295.9,
            33180.9,
            33581.4,
            33739.4,
            32118.7,
            32289.9,
            33062.4,
            33335.4,
            32663.2,
            32215.2,
            31627.8,
            31155.2,
            31072.9,
            31201.9,
            31158.8,
            30493.7,
            29324.3,
            29511.5,
            31740.3,
            32039.8,
            32605.8,
            33889.3,
            34491.2,
            36422.4,
            38146.4,
            39324.9,
            38371.4,
            41029.4,
            40668.4,
            38699.6,
            37715.5,
            37528.7,
            37349.2,
            39925.2,
            42478.6,
            43322.1,
            42818.1,
            44680.4,
            45255.6,
            43837,
            43904.9,
            46056.9,
            45607.2,
            45686.2,
            44593.1,
            44242.5,
            43994.6,
            46363.9,
            48330,
            48138.8,
            48653.6,
            47847.2,
            47144,
            46470.3,
            46382.3,
            48417,
            47865.8,
            47440.7,
            46719.4,
            46556.8,
            48320.3,
            48364.9,
            49519.1,
            49513.6,
            51046.4,
            43954.2,
            44484.8,
            45613.2,
            44237.1,
            44305.2,
            44775.8,
            43559.8,
            44786.9,
            46603.8,
            47053.9,
            46791.7,
            46918.7,
            47130.9,
            42601.3,
            39782.3,
            40250,
            43108.9,
            40863.2,
            41726.4,
            40829.5,
            42633.7,
            41144.1,
            40813.1,
            41124.6,
            43310.9,
            47479.9,
            47159.9,
            46966.5,
            48748.8,
            50445.2,
            53470.9,
            53669.5,
            53721.8,
            54192.4,
            54411.9,
            54142.2,
            54284.2,
            56867.9,
            56890.8,
            60175.9,
            59083.8,
            59935.5,
            61440.8,
            63552.5,
            62284.9,
            60060.5,
            59745,
            59536.6,
            60660.2,
            60642.6,
            58154.7,
            58164.2,
            60316.8,
            60838.4,
            60041.9,
            59586.1,
            60691.1,
            61133.5,
            60769.4,
            60789.8,
            60132.7,
            61338.4,
            62814.1,
            66343,
            63526,
            64144.4,
            62322.1,
            63407.8,
            63634.9,
            63447.9,
            58798.3,
            58586.6,
            56614.6,
            55669.8,
            57483.8,
            58596.3,
            55698.9,
            55441.6,
            55902.3,
            56992.6,
            53577.3,
            53557,
            53529.9,
            56071.9,
            55958.3,
            56487.2,
            55855.5,
            51689.5,
            44582.5,
            47875.1,
            47241.4,
            50074.8,
            48673.1,
            47327.6,
            47312.6,
            46800,
            48675.6,
            45841.8,
            46323.1,
            46583.2,
            47529.8,
            45498.7,
            45534.9,
            46440.6,
            45577.4,
            46653.2,
            48442.6,
            48039.6,
            50447.7,
            50191.3,
            49558.9,
            50469.2,
            47319.7,
            46591.3,
            45983.6,
            45682.6,
            46142.9,
            46669.3,
            45704.6,
            45490.9,
            42495.8,
            42429.3,
            40803.8,
            40586.2,
            41204.1,
            39716,
            41265.9,
            42458.5,
            42328.1,
            41746.9,
            42587,
            42614.4,
            41557.4,
            41296.5,
            41152.3,
            40864.1,
            35560.1,
            34100.5,
            34607.9,
            32971.8,
            35713.7,
            36261.7,
            35528.3,
            36169.5,
            37299.3,
            37367.7,
            36667.3,
            38019,
            36623.5,
            36299.6,
            36893.1,
            40593.1,
            41141.2,
            41513.8,
            42703.2,
            43152.4,
            43239.1,
            42014.6,
            41764.2,
            41890.9,
            41579.9,
            42448.4,
            43340.1,
            40097.2,
            39537.2,
            39658.9,
            38018.3,
            36818.6,
            36362.1,
            37118.6,
            34356.9,
            37892.4,
            38594.7,
            37018.5,
            37367.9,
            42828.2,
            43342.8,
            41845.6,
            38563.6,
            38415.7,
            38101.2,
            37162.4,
            37875.2,
            38537.8,
            38615.4,
            38240.9,
            38668.3,
            37618,
            37559.8,
            38107.6,
            38928.4,
            40508.1,
            40167.6,
            41524.9,
            40929.4,
            40487,
            40896,
            41772.4,
            42415.9,
            43605.2,
            44089.6,
            44383.7,
            46367.7,
            46903.6,
            46637.7,
            45532.7,
            44213.3,
            45641.9,
            45546.2,
            45131.5,
            45469.8,
            43182.9,
            42731.6,
            42463.6,
            42119.8,
            42450.5,
            39316.1,
            39211.8,
            39568.9,
            39560.9,
            39774.4,
            40008,
            39837.3,
            38544.4,
            40583.2,
            40903.2,
            40551.5,
            39190.4,
            39288.9,
            39138.1,
            38217,
            37788.9,
            37745.6,
            38888.3,
            38175,
            38159.4,
            37388.5,
            38057.5,
            37513.9,
            37627.4,
            35567.2,
            35313.9,
            35089,
            33723.1,
            30321.9,
            29779,
            27673.9,
            25474.1,
            28273.1,
            28602.5,
            29443.7,
            29140.8,
            29440.4,
            28714.6,
            28635.5,
            28692.7,
            28916.1,
            29218.8,
            29025.1,
            28644.7,
            29264.8,
            28001.4,
            28253.3,
            28413.3,
            28813,
            29144.7,
            31203,
            29343.6,
            29490.5,
            29312.4,
            29460.2,
            29519.1,
            29846.9,
            29195.8,
            29859.3,
            29945.5,
            28840.4,
            28069.3,
            26859.6,
            22567.1,
            20822.5,
            20079.7,
            20724.5,
            20218.9,
            17599,
            17936.1,
            19616.5,
            20241.7,
            19756.5,
            19870.8,
            20663,
            20897.5,
            21124,
            20494.3,
            20181.3,
            19872.7,
            18615,
            18719.9,
            18980.4,
            18773.6,
            19030.4,
            19283.9,
            19746.6,
            20249.9,
            21177.3,
            21312.4,
            20647.1,
            20202.1,
            19256.8,
            18910.3,
            19611.5,
            20371.5,
            20473.5,
            20823.6,
            20748.4,
            21554.5,
            22927,
            22344.2,
            22510.5,
            21946.4,
            22235.8,
            21561.1,
            20728.4,
            20923.5,
            22590.2,
            23434.8,
            23658.3,
            23411.6,
            22858.8,
            22664.8,
            22688.5,
            22407.1,
            22456.7,
            23016.4,
            22853.5,
            23066.3,
            22882.1,
            22694.3,
            23816.2,
            23594.8,
            24087.2,
            24218.9,
            23885.3,
            23683.1,
            23184.2,
            23239.8,
            20999.2,
            20766.9,
            21055.5,
            20903.8,
            20913.3,
            21149.8,
            21312.1,
            20550,
            19847.2,
            19830,
            19538.2,
            19549.5,
            19751.3,
            19566,
            19763.8,
            19652.7,
            19585.8,
            19636.1,
            18713.2,
            18551.7,
            19030.4,
            19254.9,
            21136.1,
            21358.8,
            21520.1,
            19873.9,
            19661.1,
            19496.4,
            19332.7,
            19693.4,
            19417.5,
            18240,
            18715,
            18341.1,
            18147.1,
            18535.3,
            18861.7,
            18720.9,
            18634.4,
            18818.1,
            18473.2,
            18845.6,
            19163.8,
            19165.7,
            19059.1,
            18923.3,
            19499,
            19730,
            19881.1,
            19321,
            19241.9,
            19273.5,
            19096.2,
            18863.5,
            18978.2,
            18197.2,
            19077.7,
            19042.1,
            18982.3,
            19119.7,
            19097.4,
            19081.7,
            18906.1,
            18650.8,
            19114.9,
            19077.4,
            19161.3,
            19238.3,
            19992.8,
            20250.2,
            20005.4,
            20562.1,
            20521.2,
            20240.2,
            20330.4,
            20060.2,
            20046,
            20162.6,
            21083.4,
            21052.9,
            20389.5,
            17203.1,
            15764.8,
            15799.9,
            16507.1,
            16606.2,
            16214.7,
            15796.3,
            16380.7,
            16371,
            16399.8,
            16533.4,
            16536,
            16162.3,
            15473.9,
            15600.4,
            16137.2,
            16449.6,
            16334.8,
            16376,
            16407.3,
            16003.7,
            16093.5,
            16422.1,
            16863.7,
            16808.3,
            16864.6,
            16873.8,
            16870,
            16912.1,
            16689.9,
            16738,
            17069.4,
            17112.1,
            17091.3,
            16874.2,
            17084.9,
            17667.2,
            17282.2,
            16696.4,
            16532.6,
            16665.3,
            16265.7,
            16373.8,
            16727,
            16560.9,
            16743.9,
            16772.8,
            16725.8,
            16796,
            16595.4,
            16462.9,
            16481.7,
            16329.4,
            16467.2,
            16480,
            16543.4,
            16599.8,
            16647.9,
            16750.6,
            16675.3,
            16903.2,
            16908.8,
            16961.2,
            17129,
            17314.7,
            17550.7,
            18718,
            19736.2,
            20559.4,
            20627.4,
            20850.7,
            20409.2,
            20645.2,
            20868,
            22435.9,
            22311.4,
            22613.9,
            22730.3,
            22364.2,
            22862.9,
            22549,
            22887.2,
            22966.4,
            22501.1,
            22704.8,
            22766.8,
            23439.2,
            23211.3,
            23255.6,
            22754.6,
            22639.1,
            22644.5,
            22675.7,
            21702.8,
            21472.1,
            21555.2,
            21670.2,
            21389.3,
            21593.1,
            22056.6,
            23984.5,
            23347.1,
            24438.2,
            24266.8,
            23887.3,
            24160.7,
            23591.3,
            23617.8,
            22886,
            22800.8,
            23061.9,
            23118.9,
            23025.1,
            23028,
            23199.1,
            22098,
            22159.1,
            22238.8,
            22266.8,
            21944,
            21788.4,
            20062.4,
            19561.8,
            19912,
            20405.8,
            21829.2,
            24043.3,
            23980,
            24212.8,
            24944.7,
            26730.5,
            26887.8,
            27223.3,
            27406.2,
            26685.8,
            27180.9,
            27041.6,
            27186.8,
            27434,
            26665.1,
            26640.3,
            27144.2,
            27689.9,
            27521.7,
            28273,
            27876.1,
            27350.4,
            27675.6,
            27819.4,
            27723.2,
            27791.9,
            27880,
            27817.8,
            28197.2,
            29246.3,
            29686.4,
            29828.9,
            29994.2,
            30228.3,
            30144.4,
            29260.8,
            29121.5,
            28834.6,
            28001.2,
            27183.9,
            27133,
            27390.9,
            27073.5,
            27194.7,
            27379.3,
            28182,
            28905.2,
            29057.8,
            29105.7,
            27666.7,
            27876.2,
            28127.6,
            28686.5,
            28758.6,
            28455,
            28752.5,
            27282.4,
            27401.1,
            26885.1,
            26776.8,
            25845.9,
            26653.4,
            26651.6,
            26753.4,
            26885.3,
            26603.9,
            26476.5,
            26740.1,
            26838.5,
            26686.7,
            26554.1,
            26805.3,
            26052.3,
            25926.7,
            26329.9,
            26560.4,
            26772.6,
            27532.3,
            27565.4,
            26849.8,
            26615.4
           ]
          }
         ],
         "hovertemplate": "%{xaxis.title.text}=%{x}<br>%{yaxis.title.text}=%{y}<br>close=%{marker.color}<extra></extra>",
         "legendgroup": "",
         "marker": {
          "color": [
           33505.1,
           33465.9,
           34595.3,
           35866.5,
           34169.8,
           33766.7,
           34250.1,
           32686.9,
           33871.3,
           33431.6,
           34473.5,
           32868.7,
           32583.9,
           32861.3,
           31730.8,
           31745.5,
           31728.6,
           31847.7,
           30783.4,
           29702.2,
           31841.7,
           32163.4,
           32647.7,
           34124.6,
           34587.3,
           37115.7,
           38284.4,
           40102.8,
           39560.9,
           41175.5,
           41980.2,
           41092.3,
           39210.5,
           38322.7,
           39833.8,
           40926.5,
           42482.8,
           43644.2,
           44260.3,
           45719.2,
           45726.5,
           46371.3,
           44249.3,
           47588.1,
           47049.8,
           46886,
           46069.8,
           44776.7,
           44621.8,
           46623,
           49303.9,
           49209.2,
           48713.8,
           49563.3,
           48201,
           49076.2,
           47263.7,
           48999.3,
           48972.1,
           48912.4,
           48407.4,
           46958.8,
           48447.1,
           49831.8,
           50250.6,
           50227.5,
           51728.4,
           52114.1,
           46502.9,
           46076.9,
           46487.2,
           44618.1,
           45403.9,
           45287.9,
           45162.3,
           46689.7,
           48183.2,
           47672.8,
           47246.8,
           47908.3,
           47461.2,
           43507.1,
           41435.9,
           43259.9,
           44692.6,
           42953,
           42724.4,
           43581.9,
           43096.2,
           41877.4,
           41250.1,
           43774.7,
           48378.8,
           48168.2,
           47809.8,
           48921.9,
           51762.2,
           55108.2,
           54293.6,
           54190.7,
           54865.7,
           54866,
           57143.8,
           56046.7,
           57516.6,
           57758.2,
           61199.9,
           60704.2,
           60609.9,
           61780.1,
           64094.9,
           65813.1,
           62698.2,
           60414.8,
           61040.6,
           60964.8,
           62839.9,
           60734.6,
           58801.2,
           60732.6,
           62384.8,
           61503.5,
           61428.2,
           61140.2,
           62980,
           62811.4,
           61186.8,
           61133.9,
           61402.8,
           62832.6,
           66539.2,
           67305.1,
           65145.6,
           65210.9,
           63929,
           64258.6,
           64526.6,
           63962.9,
           60615.4,
           59992.1,
           56614.6,
           57906.8,
           59779.3,
           59160.1,
           56741.7,
           57586,
           57010.7,
           58931.2,
           54099,
           54917.5,
           56094.7,
           58117.1,
           57345,
           57077.7,
           56887.6,
           53440.3,
           49303.2,
           49338.3,
           50891.4,
           50261.9,
           50230.9,
           47958.5,
           47523.6,
           48854.8,
           50330.8,
           46913.5,
           48285.9,
           48752.8,
           47830,
           46534,
           46807.9,
           47360.9,
           46792.1,
           49286.3,
           48997.7,
           50777.4,
           50785.3,
           50633.5,
           50999.9,
           51035.4,
           47701.2,
           47284.1,
           47083.4,
           46308.6,
           47450.2,
           47264.8,
           46222.5,
           46155.3,
           43439.9,
           43176.6,
           41537.7,
           41912.1,
           42205.4,
           41605,
           42717.4,
           43860.5,
           42614.5,
           43263.5,
           43259,
           43207.3,
           42094,
           42495.6,
           41989.5,
           41175.5,
           36138.8,
           34885.5,
           35518.3,
           36382.2,
           36796.4,
           36535.4,
           36727.2,
           37667.1,
           38154.7,
           37800.9,
           38431.7,
           38717.7,
           37036.9,
           36951.6,
           40674.2,
           41604.8,
           41612,
           44097,
           44102.5,
           44606.8,
           43980.3,
           42167.6,
           42196.6,
           42405.4,
           42690.9,
           44195.7,
           44032.5,
           40737,
           39964.4,
           40035.4,
           38838.2,
           37562.1,
           37936.3,
           37670.8,
           37885.2,
           39454.4,
           39160.9,
           37825.8,
           42965.9,
           44168.9,
           44076.2,
           42493.2,
           39016.4,
           39476.8,
           38985.8,
           38222.9,
           38560,
           41900.4,
           39457.8,
           38924.5,
           39105.9,
           37750.4,
           39331.6,
           39481.8,
           40895.3,
           41008.3,
           41708,
           41971.3,
           41428.9,
           41136.5,
           42550,
           42509.9,
           43969.4,
           44321.6,
           44381.9,
           46562.6,
           47633,
           47295.4,
           47001.6,
           45766.3,
           46323.6,
           46249.5,
           46853,
           46458.4,
           45958.1,
           43845.8,
           43524.4,
           42580.4,
           42570.8,
           42678.2,
           39400.6,
           39701.7,
           41232.1,
           39974,
           40434.1,
           40490.1,
           40216.2,
           40813.5,
           41321.3,
           41504.8,
           40730.5,
           39619.2,
           39903,
           39641.3,
           40235.6,
           38333.9,
           39225.9,
           39848.7,
           38564,
           38301.1,
           38342.6,
           38643.5,
           37791.8,
           39741.1,
           36451.3,
           35956.3,
           35089,
           34450.4,
           30800.7,
           30286.1,
           28893.2,
           28368.4,
           29995.6,
           29661.4,
           31029.6,
           30135.2,
           30512.1,
           29152.1,
           30245.9,
           29148.6,
           29314.4,
           29981.7,
           29311.1,
           29548.3,
           29789.2,
           29546.4,
           28690.6,
           28983.5,
           29203.5,
           31780.5,
           31682.3,
           29564.1,
           30340.1,
           29786.2,
           29823.7,
           29937.1,
           31462.1,
           31383.4,
           30404.5,
           30114,
           29162.6,
           28528.8,
           27335.7,
           23031.7,
           21463.2,
           22157.8,
           20985.9,
           20533.1,
           18494.7,
           20369.1,
           20396,
           20950.4,
           19985.3,
           20667.1,
           21295.5,
           21495.7,
           21368.6,
           20784.6,
           20368.2,
           20270.8,
           18797.2,
           19375.7,
           19332,
           19279.7,
           19934.8,
           20350.7,
           20332.5,
           21654.4,
           21706.8,
           21695.8,
           21022.9,
           20224.1,
           19328.7,
           19908.9,
           20468.1,
           20960.9,
           21190.8,
           21016.7,
           21653.4,
           23656.5,
           23608.5,
           23212.4,
           22739.1,
           22249,
           22811.5,
           22027,
           20945,
           22680.9,
           23931.8,
           23828.9,
           23868.8,
           23595.8,
           23027.4,
           23097.7,
           23274.3,
           22496,
           23111.4,
           23183.9,
           23315.4,
           23852.2,
           23195.8,
           23966.2,
           24195.3,
           24125.5,
           24508.5,
           24352.3,
           24031,
           23950.8,
           23332.9,
           23363.3,
           21024.6,
           21121.1,
           21534.4,
           21097.4,
           21489.2,
           21594.1,
           21584.5,
           20641.1,
           19891.8,
           19965.2,
           20205.9,
           19882.1,
           20282,
           20083.7,
           19979,
           19751.8,
           19857.2,
           19752.4,
           18979.9,
           19364.7,
           19334.6,
           21257.8,
           21606.8,
           21515,
           22341.3,
           20133.2,
           20206.8,
           19828.4,
           19744.4,
           20034.5,
           19463.5,
           19519.5,
           18898.2,
           18468.2,
           19173.6,
           19008.8,
           18952.3,
           18744.7,
           19096.4,
           18992.7,
           19618.8,
           19432.8,
           19360.2,
           19288.3,
           19197.1,
           19555.2,
           20296.3,
           20055.4,
           19913.3,
           19572.7,
           19322.7,
           19482.2,
           19243.5,
           19004.5,
           19181.6,
           19403.6,
           19108.5,
           19070.1,
           19148.5,
           19515.4,
           19296.2,
           19195,
           19070.9,
           19155.9,
           19204.4,
           19541,
           19366.3,
           20234.4,
           20745.3,
           20407.2,
           20599.8,
           20850.3,
           20591,
           20478.7,
           20476.1,
           20108,
           20195.5,
           21179.3,
           21297.7,
           21140.3,
           20463.7,
           18514.2,
           16103,
           17887.7,
           16949.2,
           16805.7,
           16414,
           16386.9,
           16859.7,
           16653.8,
           16697.2,
           16647,
           16720.1,
           16272.5,
           15720.5,
           16165.2,
           16494.2,
           16597.5,
           16519.6,
           16416.1,
           16563.3,
           16212.5,
           16488.7,
           17153.7,
           16966.5,
           17042.2,
           16902.8,
           17104.6,
           16943.9,
           16973.7,
           16842.5,
           17203.8,
           17133.3,
           17137.6,
           17104.7,
           17159.7,
           17772,
           17837.7,
           17344.3,
           16725,
           16741.7,
           16763.8,
           16416.3,
           16869.7,
           16765.4,
           16795,
           16791,
           16824.9,
           16819.6,
           16835.3,
           16684.1,
           16509.2,
           16612.5,
           16575.2,
           16512.6,
           16594.6,
           16692.9,
           16670.7,
           16821.5,
           16832.7,
           16953,
           16932.5,
           16961.2,
           17204.3,
           17433.6,
           17555,
           18916.8,
           19851.1,
           20987.8,
           20916.3,
           21188.3,
           21234.1,
           20807.8,
           21064.9,
           22594.9,
           22948.9,
           22681.5,
           22931,
           22756.8,
           22939.2,
           23005.8,
           23015.6,
           22982.4,
           23767.1,
           22731.3,
           23183.7,
           23714.8,
           23561.5,
           23423.5,
           23405,
           22986.1,
           22882.2,
           23230.2,
           22931.1,
           21767.6,
           21573.7,
           21826,
           21797,
           21652,
           22197.2,
           24154.2,
           24013.8,
           24680.9,
           24631.4,
           24496.9,
           24707.3,
           24388.5,
           24100.6,
           23873.6,
           23119.7,
           23123,
           23478.9,
           23478.5,
           23161.8,
           23535,
           23464.9,
           22320.4,
           22307.2,
           22434.8,
           22432.3,
           22104.6,
           21788.4,
           20344.5,
           20167.4,
           20483.6,
           21915.8,
           24299.2,
           24804,
           24464.9,
           25043.8,
           27750.1,
           27003.4,
           28194.4,
           28054.7,
           28121.4,
           27286.4,
           28277.4,
           27328.5,
           27473.9,
           27856.6,
           27183.4,
           27201.1,
           28298.4,
           28076.4,
           28482.9,
           28488,
           28032.2,
           27720.8,
           28233.1,
           28191.2,
           27999,
           27911.8,
           27940.7,
           28456.2,
           29246.3,
           30219.4,
           29967.5,
           30312.8,
           30479.4,
           30291,
           30406.3,
           29469.6,
           30376.8,
           29180.7,
           28232.7,
           27277,
           27671.5,
           27519.2,
           27415.2,
           28274.5,
           28686.8,
           29656.8,
           29351.2,
           29247.2,
           29428,
           27992.7,
           28677.9,
           28931.2,
           28850.4,
           29513.6,
           28857.6,
           28802.8,
           27562.3,
           27625.2,
           27533.3,
           27005,
           26771.5,
           26876,
           26922.8,
           27381.6,
           27023.8,
           27378.6,
           26929.3,
           26913.9,
           27057.3,
           26761.2,
           26914,
           27201.7,
           26367.1,
           26476.6,
           26730.6,
           26781.2,
           27841.4,
           27675,
           27730.2,
           27095.1,
           26897.4
          ],
          "coloraxis": "coloraxis",
          "symbol": "circle"
         },
         "name": "",
         "showlegend": false,
         "type": "splom"
        }
       ],
       "layout": {
        "coloraxis": {
         "colorbar": {
          "title": {
           "text": "close"
          }
         },
         "colorscale": [
          [
           0,
           "#0d0887"
          ],
          [
           0.1111111111111111,
           "#46039f"
          ],
          [
           0.2222222222222222,
           "#7201a8"
          ],
          [
           0.3333333333333333,
           "#9c179e"
          ],
          [
           0.4444444444444444,
           "#bd3786"
          ],
          [
           0.5555555555555556,
           "#d8576b"
          ],
          [
           0.6666666666666666,
           "#ed7953"
          ],
          [
           0.7777777777777778,
           "#fb9f3a"
          ],
          [
           0.8888888888888888,
           "#fdca26"
          ],
          [
           1,
           "#f0f921"
          ]
         ]
        },
        "dragmode": "select",
        "height": 600,
        "legend": {
         "tracegroupgap": 0
        },
        "margin": {
         "t": 60
        },
        "template": {
         "data": {
          "bar": [
           {
            "error_x": {
             "color": "#2a3f5f"
            },
            "error_y": {
             "color": "#2a3f5f"
            },
            "marker": {
             "line": {
              "color": "#E5ECF6",
              "width": 0.5
             },
             "pattern": {
              "fillmode": "overlay",
              "size": 10,
              "solidity": 0.2
             }
            },
            "type": "bar"
           }
          ],
          "barpolar": [
           {
            "marker": {
             "line": {
              "color": "#E5ECF6",
              "width": 0.5
             },
             "pattern": {
              "fillmode": "overlay",
              "size": 10,
              "solidity": 0.2
             }
            },
            "type": "barpolar"
           }
          ],
          "carpet": [
           {
            "aaxis": {
             "endlinecolor": "#2a3f5f",
             "gridcolor": "white",
             "linecolor": "white",
             "minorgridcolor": "white",
             "startlinecolor": "#2a3f5f"
            },
            "baxis": {
             "endlinecolor": "#2a3f5f",
             "gridcolor": "white",
             "linecolor": "white",
             "minorgridcolor": "white",
             "startlinecolor": "#2a3f5f"
            },
            "type": "carpet"
           }
          ],
          "choropleth": [
           {
            "colorbar": {
             "outlinewidth": 0,
             "ticks": ""
            },
            "type": "choropleth"
           }
          ],
          "contour": [
           {
            "colorbar": {
             "outlinewidth": 0,
             "ticks": ""
            },
            "colorscale": [
             [
              0,
              "#0d0887"
             ],
             [
              0.1111111111111111,
              "#46039f"
             ],
             [
              0.2222222222222222,
              "#7201a8"
             ],
             [
              0.3333333333333333,
              "#9c179e"
             ],
             [
              0.4444444444444444,
              "#bd3786"
             ],
             [
              0.5555555555555556,
              "#d8576b"
             ],
             [
              0.6666666666666666,
              "#ed7953"
             ],
             [
              0.7777777777777778,
              "#fb9f3a"
             ],
             [
              0.8888888888888888,
              "#fdca26"
             ],
             [
              1,
              "#f0f921"
             ]
            ],
            "type": "contour"
           }
          ],
          "contourcarpet": [
           {
            "colorbar": {
             "outlinewidth": 0,
             "ticks": ""
            },
            "type": "contourcarpet"
           }
          ],
          "heatmap": [
           {
            "colorbar": {
             "outlinewidth": 0,
             "ticks": ""
            },
            "colorscale": [
             [
              0,
              "#0d0887"
             ],
             [
              0.1111111111111111,
              "#46039f"
             ],
             [
              0.2222222222222222,
              "#7201a8"
             ],
             [
              0.3333333333333333,
              "#9c179e"
             ],
             [
              0.4444444444444444,
              "#bd3786"
             ],
             [
              0.5555555555555556,
              "#d8576b"
             ],
             [
              0.6666666666666666,
              "#ed7953"
             ],
             [
              0.7777777777777778,
              "#fb9f3a"
             ],
             [
              0.8888888888888888,
              "#fdca26"
             ],
             [
              1,
              "#f0f921"
             ]
            ],
            "type": "heatmap"
           }
          ],
          "heatmapgl": [
           {
            "colorbar": {
             "outlinewidth": 0,
             "ticks": ""
            },
            "colorscale": [
             [
              0,
              "#0d0887"
             ],
             [
              0.1111111111111111,
              "#46039f"
             ],
             [
              0.2222222222222222,
              "#7201a8"
             ],
             [
              0.3333333333333333,
              "#9c179e"
             ],
             [
              0.4444444444444444,
              "#bd3786"
             ],
             [
              0.5555555555555556,
              "#d8576b"
             ],
             [
              0.6666666666666666,
              "#ed7953"
             ],
             [
              0.7777777777777778,
              "#fb9f3a"
             ],
             [
              0.8888888888888888,
              "#fdca26"
             ],
             [
              1,
              "#f0f921"
             ]
            ],
            "type": "heatmapgl"
           }
          ],
          "histogram": [
           {
            "marker": {
             "pattern": {
              "fillmode": "overlay",
              "size": 10,
              "solidity": 0.2
             }
            },
            "type": "histogram"
           }
          ],
          "histogram2d": [
           {
            "colorbar": {
             "outlinewidth": 0,
             "ticks": ""
            },
            "colorscale": [
             [
              0,
              "#0d0887"
             ],
             [
              0.1111111111111111,
              "#46039f"
             ],
             [
              0.2222222222222222,
              "#7201a8"
             ],
             [
              0.3333333333333333,
              "#9c179e"
             ],
             [
              0.4444444444444444,
              "#bd3786"
             ],
             [
              0.5555555555555556,
              "#d8576b"
             ],
             [
              0.6666666666666666,
              "#ed7953"
             ],
             [
              0.7777777777777778,
              "#fb9f3a"
             ],
             [
              0.8888888888888888,
              "#fdca26"
             ],
             [
              1,
              "#f0f921"
             ]
            ],
            "type": "histogram2d"
           }
          ],
          "histogram2dcontour": [
           {
            "colorbar": {
             "outlinewidth": 0,
             "ticks": ""
            },
            "colorscale": [
             [
              0,
              "#0d0887"
             ],
             [
              0.1111111111111111,
              "#46039f"
             ],
             [
              0.2222222222222222,
              "#7201a8"
             ],
             [
              0.3333333333333333,
              "#9c179e"
             ],
             [
              0.4444444444444444,
              "#bd3786"
             ],
             [
              0.5555555555555556,
              "#d8576b"
             ],
             [
              0.6666666666666666,
              "#ed7953"
             ],
             [
              0.7777777777777778,
              "#fb9f3a"
             ],
             [
              0.8888888888888888,
              "#fdca26"
             ],
             [
              1,
              "#f0f921"
             ]
            ],
            "type": "histogram2dcontour"
           }
          ],
          "mesh3d": [
           {
            "colorbar": {
             "outlinewidth": 0,
             "ticks": ""
            },
            "type": "mesh3d"
           }
          ],
          "parcoords": [
           {
            "line": {
             "colorbar": {
              "outlinewidth": 0,
              "ticks": ""
             }
            },
            "type": "parcoords"
           }
          ],
          "pie": [
           {
            "automargin": true,
            "type": "pie"
           }
          ],
          "scatter": [
           {
            "fillpattern": {
             "fillmode": "overlay",
             "size": 10,
             "solidity": 0.2
            },
            "type": "scatter"
           }
          ],
          "scatter3d": [
           {
            "line": {
             "colorbar": {
              "outlinewidth": 0,
              "ticks": ""
             }
            },
            "marker": {
             "colorbar": {
              "outlinewidth": 0,
              "ticks": ""
             }
            },
            "type": "scatter3d"
           }
          ],
          "scattercarpet": [
           {
            "marker": {
             "colorbar": {
              "outlinewidth": 0,
              "ticks": ""
             }
            },
            "type": "scattercarpet"
           }
          ],
          "scattergeo": [
           {
            "marker": {
             "colorbar": {
              "outlinewidth": 0,
              "ticks": ""
             }
            },
            "type": "scattergeo"
           }
          ],
          "scattergl": [
           {
            "marker": {
             "colorbar": {
              "outlinewidth": 0,
              "ticks": ""
             }
            },
            "type": "scattergl"
           }
          ],
          "scattermapbox": [
           {
            "marker": {
             "colorbar": {
              "outlinewidth": 0,
              "ticks": ""
             }
            },
            "type": "scattermapbox"
           }
          ],
          "scatterpolar": [
           {
            "marker": {
             "colorbar": {
              "outlinewidth": 0,
              "ticks": ""
             }
            },
            "type": "scatterpolar"
           }
          ],
          "scatterpolargl": [
           {
            "marker": {
             "colorbar": {
              "outlinewidth": 0,
              "ticks": ""
             }
            },
            "type": "scatterpolargl"
           }
          ],
          "scatterternary": [
           {
            "marker": {
             "colorbar": {
              "outlinewidth": 0,
              "ticks": ""
             }
            },
            "type": "scatterternary"
           }
          ],
          "surface": [
           {
            "colorbar": {
             "outlinewidth": 0,
             "ticks": ""
            },
            "colorscale": [
             [
              0,
              "#0d0887"
             ],
             [
              0.1111111111111111,
              "#46039f"
             ],
             [
              0.2222222222222222,
              "#7201a8"
             ],
             [
              0.3333333333333333,
              "#9c179e"
             ],
             [
              0.4444444444444444,
              "#bd3786"
             ],
             [
              0.5555555555555556,
              "#d8576b"
             ],
             [
              0.6666666666666666,
              "#ed7953"
             ],
             [
              0.7777777777777778,
              "#fb9f3a"
             ],
             [
              0.8888888888888888,
              "#fdca26"
             ],
             [
              1,
              "#f0f921"
             ]
            ],
            "type": "surface"
           }
          ],
          "table": [
           {
            "cells": {
             "fill": {
              "color": "#EBF0F8"
             },
             "line": {
              "color": "white"
             }
            },
            "header": {
             "fill": {
              "color": "#C8D4E3"
             },
             "line": {
              "color": "white"
             }
            },
            "type": "table"
           }
          ]
         },
         "layout": {
          "annotationdefaults": {
           "arrowcolor": "#2a3f5f",
           "arrowhead": 0,
           "arrowwidth": 1
          },
          "autotypenumbers": "strict",
          "coloraxis": {
           "colorbar": {
            "outlinewidth": 0,
            "ticks": ""
           }
          },
          "colorscale": {
           "diverging": [
            [
             0,
             "#8e0152"
            ],
            [
             0.1,
             "#c51b7d"
            ],
            [
             0.2,
             "#de77ae"
            ],
            [
             0.3,
             "#f1b6da"
            ],
            [
             0.4,
             "#fde0ef"
            ],
            [
             0.5,
             "#f7f7f7"
            ],
            [
             0.6,
             "#e6f5d0"
            ],
            [
             0.7,
             "#b8e186"
            ],
            [
             0.8,
             "#7fbc41"
            ],
            [
             0.9,
             "#4d9221"
            ],
            [
             1,
             "#276419"
            ]
           ],
           "sequential": [
            [
             0,
             "#0d0887"
            ],
            [
             0.1111111111111111,
             "#46039f"
            ],
            [
             0.2222222222222222,
             "#7201a8"
            ],
            [
             0.3333333333333333,
             "#9c179e"
            ],
            [
             0.4444444444444444,
             "#bd3786"
            ],
            [
             0.5555555555555556,
             "#d8576b"
            ],
            [
             0.6666666666666666,
             "#ed7953"
            ],
            [
             0.7777777777777778,
             "#fb9f3a"
            ],
            [
             0.8888888888888888,
             "#fdca26"
            ],
            [
             1,
             "#f0f921"
            ]
           ],
           "sequentialminus": [
            [
             0,
             "#0d0887"
            ],
            [
             0.1111111111111111,
             "#46039f"
            ],
            [
             0.2222222222222222,
             "#7201a8"
            ],
            [
             0.3333333333333333,
             "#9c179e"
            ],
            [
             0.4444444444444444,
             "#bd3786"
            ],
            [
             0.5555555555555556,
             "#d8576b"
            ],
            [
             0.6666666666666666,
             "#ed7953"
            ],
            [
             0.7777777777777778,
             "#fb9f3a"
            ],
            [
             0.8888888888888888,
             "#fdca26"
            ],
            [
             1,
             "#f0f921"
            ]
           ]
          },
          "colorway": [
           "#636efa",
           "#EF553B",
           "#00cc96",
           "#ab63fa",
           "#FFA15A",
           "#19d3f3",
           "#FF6692",
           "#B6E880",
           "#FF97FF",
           "#FECB52"
          ],
          "font": {
           "color": "#2a3f5f"
          },
          "geo": {
           "bgcolor": "white",
           "lakecolor": "white",
           "landcolor": "#E5ECF6",
           "showlakes": true,
           "showland": true,
           "subunitcolor": "white"
          },
          "hoverlabel": {
           "align": "left"
          },
          "hovermode": "closest",
          "mapbox": {
           "style": "light"
          },
          "paper_bgcolor": "white",
          "plot_bgcolor": "#E5ECF6",
          "polar": {
           "angularaxis": {
            "gridcolor": "white",
            "linecolor": "white",
            "ticks": ""
           },
           "bgcolor": "#E5ECF6",
           "radialaxis": {
            "gridcolor": "white",
            "linecolor": "white",
            "ticks": ""
           }
          },
          "scene": {
           "xaxis": {
            "backgroundcolor": "#E5ECF6",
            "gridcolor": "white",
            "gridwidth": 2,
            "linecolor": "white",
            "showbackground": true,
            "ticks": "",
            "zerolinecolor": "white"
           },
           "yaxis": {
            "backgroundcolor": "#E5ECF6",
            "gridcolor": "white",
            "gridwidth": 2,
            "linecolor": "white",
            "showbackground": true,
            "ticks": "",
            "zerolinecolor": "white"
           },
           "zaxis": {
            "backgroundcolor": "#E5ECF6",
            "gridcolor": "white",
            "gridwidth": 2,
            "linecolor": "white",
            "showbackground": true,
            "ticks": "",
            "zerolinecolor": "white"
           }
          },
          "shapedefaults": {
           "line": {
            "color": "#2a3f5f"
           }
          },
          "ternary": {
           "aaxis": {
            "gridcolor": "white",
            "linecolor": "white",
            "ticks": ""
           },
           "baxis": {
            "gridcolor": "white",
            "linecolor": "white",
            "ticks": ""
           },
           "bgcolor": "#E5ECF6",
           "caxis": {
            "gridcolor": "white",
            "linecolor": "white",
            "ticks": ""
           }
          },
          "title": {
           "x": 0.05
          },
          "xaxis": {
           "automargin": true,
           "gridcolor": "white",
           "linecolor": "white",
           "ticks": "",
           "title": {
            "standoff": 15
           },
           "zerolinecolor": "white",
           "zerolinewidth": 2
          },
          "yaxis": {
           "automargin": true,
           "gridcolor": "white",
           "linecolor": "white",
           "ticks": "",
           "title": {
            "standoff": 15
           },
           "zerolinecolor": "white",
           "zerolinewidth": 2
          }
         }
        },
        "title": {
         "font": {
          "size": 20
         },
         "text": "BTC"
        },
        "width": 800
       }
      }
     },
     "metadata": {},
     "output_type": "display_data"
    }
   ],
   "source": [
    "import plotly.express as px\n",
    "\n",
    "fig = px.scatter_matrix(df, dimensions=[\"open\", \"high\", \"low\"], color=\"close\")\n",
    "fig.update_layout(\n",
    "    title=\"BTC\",\n",
    "    title_font=dict(size=20),\n",
    "    height=600,\n",
    "    width=800\n",
    ")\n",
    "fig.update_traces(diagonal_visible=False)\n",
    "fig.show()\n"
   ]
  },
  {
   "cell_type": "code",
   "execution_count": 16,
   "metadata": {},
   "outputs": [
    {
     "data": {
      "application/vnd.plotly.v1+json": {
       "config": {
        "plotlyServerURL": "https://plot.ly"
       },
       "data": [
        {
         "mode": "lines",
         "type": "scatter",
         "x": [
          "2023-06-01",
          "2023-06-02",
          "2023-06-03",
          "2023-06-04",
          "2023-06-05",
          "2023-06-06",
          "2023-06-07",
          "2023-06-08",
          "2023-06-09",
          "2023-06-10",
          "2023-06-11",
          "2023-06-12",
          "2023-06-13",
          "2023-06-14",
          "2023-06-15",
          "2023-06-16",
          "2023-06-17",
          "2023-06-18",
          "2023-06-19",
          "2023-06-20",
          "2023-06-21",
          "2023-06-22",
          "2023-06-23",
          "2023-06-24",
          "2023-06-25",
          "2023-06-26",
          "2023-06-27",
          "2023-06-28",
          "2023-06-29",
          "2023-06-30",
          "2023-07-01",
          "2023-07-02",
          "2023-07-03",
          "2023-07-04",
          "2023-07-05",
          "2023-07-06",
          "2023-07-07",
          "2023-07-08",
          "2023-07-09",
          "2023-07-10",
          "2023-07-11",
          "2023-07-12",
          "2023-07-13",
          "2023-07-14",
          "2023-07-15",
          "2023-07-16",
          "2023-07-17",
          "2023-07-18",
          "2023-07-19",
          "2023-07-20",
          "2023-07-21",
          "2023-07-22",
          "2023-07-23",
          "2023-07-24",
          "2023-07-25",
          "2023-07-26",
          "2023-07-27",
          "2023-07-28",
          "2023-07-29",
          "2023-07-30"
         ],
         "y": [
          19130.883814201454,
          30859.463622202544,
          44791.853983208406,
          39538.78570267149,
          21205.056394988536,
          26176.537543568662,
          46183.42478402373,
          16551.599916404244,
          19789.63412550647,
          27273.573254556257,
          20244.04233482048,
          46143.974654823134,
          29203.11236092844,
          30020.128973991203,
          35482.91259611923,
          16560.151782612673,
          16933.10424261778,
          27849.102163821284,
          19033.965998628977,
          46195.55421454432,
          29515.17173626181,
          27108.375295233698,
          19066.446588791536,
          48167.148736895346,
          43845.90969805814,
          47974.75068463059,
          19583.694060439288,
          29216.43968652551,
          22827.599323027338,
          19007.135170317306,
          38599.296968606024,
          62264.7852502688,
          20801.328008692006,
          20546.08932734273,
          56049.92151751132,
          27291.36234592713,
          19997.12656960044,
          43966.221614533686,
          39049.65133803018,
          30037.874632153424,
          21495.826371076342,
          28080.533000802334,
          21272.468091738374,
          27736.461485224725,
          24320.073125245515,
          46359.756655147095,
          29793.39925730993,
          41460.99215113695,
          22766.994299217913,
          30339.036900160125,
          50144.08267179422,
          22130.452706606724,
          40116.237296109524,
          35135.44981587658,
          18111.08308900101,
          37357.912591629334,
          16108.831150680222,
          38565.93322086666,
          39596.35678568015,
          38030.55734039619,
          45182.90416304882,
          17160.484066270845,
          62759.37291564301,
          61339.169430385184,
          42137.533720563006,
          20226.089890554227,
          48363.02380054217,
          42081.40698647932,
          48475.618873179716,
          17191.820288589683,
          39471.07227064929,
          16417.30074983527,
          48468.93368377756,
          20641.05203099944,
          27121.643797912813,
          27975.340841122783,
          23082.223930903543,
          42832.49226868875,
          48819.0494665695,
          65775.81667011528,
          47915.447909845316,
          60057.37339545306,
          44195.251040920964,
          32726.12016294976,
          23825.849564036595,
          28008.019908425787,
          16071.601199518504,
          20962.73547995623,
          28985.828865336047,
          20592.17085297416,
          33532.630915546506,
          21605.12571587805,
          16782.38800619417,
          28581.733360204613,
          53505.95143915593,
          29764.953124675583,
          19195.796977701808,
          59968.3669366796,
          42711.01464613002,
          57843.05977662583,
          44583.65500839749,
          19451.129898249972,
          43867.60186742233,
          42098.54904977341,
          47270.4927548668,
          29975.84025324442,
          35166.914241999126,
          20970.21876617339,
          34466.11608508164,
          28998.621713129283,
          47276.007410040256,
          19096.610253582334,
          47556.35148069651,
          44542.118962811,
          30379.44065383231,
          20357.82460786227,
          44523.287398568056,
          51247.128003496255,
          29445.691623359082,
          40081.70845280761,
          33560.18633265713,
          17297.33469013583,
          30732.5690660209,
          21545.03199620174,
          22508.854999989308,
          48157.38004559191,
          43068.87596310361,
          40153.94767817897,
          41659.380005549305,
          63773.42461443346,
          42288.37800630085,
          56393.36111851352,
          19110.738534652737,
          22306.891252357393,
          28440.084876929504,
          47213.263787723365,
          59027.38629412054,
          63182.43093449092,
          23210.275690166403,
          23202.52352583997,
          16956.75373839591,
          41823.03325448677,
          21391.32521822278,
          20026.520919365954,
          34298.907216945605,
          45580.94767903193,
          27405.031912532733,
          64729.707486255735,
          28603.183612157794,
          39910.17632201733,
          41376.28203934085,
          18172.23763185775,
          43191.181847473075,
          15649.184695615053,
          21322.211724953773,
          19200.444294178116,
          20503.35223881799,
          19053.26690322853,
          29031.708858736427,
          41433.94802003968,
          45910.38778430838,
          23767.049442252013,
          28636.32451814403,
          16523.294191063775,
          44075.67504372817,
          19746.240058256913,
          27608.88015416347,
          51488.21952184303,
          31353.835761903883,
          20793.772553024137,
          44004.594651014544,
          56632.04136144779,
          29803.53857166326,
          39995.56435294029,
          22857.075345871785,
          41510.30976689316
         ]
        }
       ],
       "layout": {
        "height": 600,
        "template": {
         "data": {
          "bar": [
           {
            "error_x": {
             "color": "#2a3f5f"
            },
            "error_y": {
             "color": "#2a3f5f"
            },
            "marker": {
             "line": {
              "color": "#E5ECF6",
              "width": 0.5
             },
             "pattern": {
              "fillmode": "overlay",
              "size": 10,
              "solidity": 0.2
             }
            },
            "type": "bar"
           }
          ],
          "barpolar": [
           {
            "marker": {
             "line": {
              "color": "#E5ECF6",
              "width": 0.5
             },
             "pattern": {
              "fillmode": "overlay",
              "size": 10,
              "solidity": 0.2
             }
            },
            "type": "barpolar"
           }
          ],
          "carpet": [
           {
            "aaxis": {
             "endlinecolor": "#2a3f5f",
             "gridcolor": "white",
             "linecolor": "white",
             "minorgridcolor": "white",
             "startlinecolor": "#2a3f5f"
            },
            "baxis": {
             "endlinecolor": "#2a3f5f",
             "gridcolor": "white",
             "linecolor": "white",
             "minorgridcolor": "white",
             "startlinecolor": "#2a3f5f"
            },
            "type": "carpet"
           }
          ],
          "choropleth": [
           {
            "colorbar": {
             "outlinewidth": 0,
             "ticks": ""
            },
            "type": "choropleth"
           }
          ],
          "contour": [
           {
            "colorbar": {
             "outlinewidth": 0,
             "ticks": ""
            },
            "colorscale": [
             [
              0,
              "#0d0887"
             ],
             [
              0.1111111111111111,
              "#46039f"
             ],
             [
              0.2222222222222222,
              "#7201a8"
             ],
             [
              0.3333333333333333,
              "#9c179e"
             ],
             [
              0.4444444444444444,
              "#bd3786"
             ],
             [
              0.5555555555555556,
              "#d8576b"
             ],
             [
              0.6666666666666666,
              "#ed7953"
             ],
             [
              0.7777777777777778,
              "#fb9f3a"
             ],
             [
              0.8888888888888888,
              "#fdca26"
             ],
             [
              1,
              "#f0f921"
             ]
            ],
            "type": "contour"
           }
          ],
          "contourcarpet": [
           {
            "colorbar": {
             "outlinewidth": 0,
             "ticks": ""
            },
            "type": "contourcarpet"
           }
          ],
          "heatmap": [
           {
            "colorbar": {
             "outlinewidth": 0,
             "ticks": ""
            },
            "colorscale": [
             [
              0,
              "#0d0887"
             ],
             [
              0.1111111111111111,
              "#46039f"
             ],
             [
              0.2222222222222222,
              "#7201a8"
             ],
             [
              0.3333333333333333,
              "#9c179e"
             ],
             [
              0.4444444444444444,
              "#bd3786"
             ],
             [
              0.5555555555555556,
              "#d8576b"
             ],
             [
              0.6666666666666666,
              "#ed7953"
             ],
             [
              0.7777777777777778,
              "#fb9f3a"
             ],
             [
              0.8888888888888888,
              "#fdca26"
             ],
             [
              1,
              "#f0f921"
             ]
            ],
            "type": "heatmap"
           }
          ],
          "heatmapgl": [
           {
            "colorbar": {
             "outlinewidth": 0,
             "ticks": ""
            },
            "colorscale": [
             [
              0,
              "#0d0887"
             ],
             [
              0.1111111111111111,
              "#46039f"
             ],
             [
              0.2222222222222222,
              "#7201a8"
             ],
             [
              0.3333333333333333,
              "#9c179e"
             ],
             [
              0.4444444444444444,
              "#bd3786"
             ],
             [
              0.5555555555555556,
              "#d8576b"
             ],
             [
              0.6666666666666666,
              "#ed7953"
             ],
             [
              0.7777777777777778,
              "#fb9f3a"
             ],
             [
              0.8888888888888888,
              "#fdca26"
             ],
             [
              1,
              "#f0f921"
             ]
            ],
            "type": "heatmapgl"
           }
          ],
          "histogram": [
           {
            "marker": {
             "pattern": {
              "fillmode": "overlay",
              "size": 10,
              "solidity": 0.2
             }
            },
            "type": "histogram"
           }
          ],
          "histogram2d": [
           {
            "colorbar": {
             "outlinewidth": 0,
             "ticks": ""
            },
            "colorscale": [
             [
              0,
              "#0d0887"
             ],
             [
              0.1111111111111111,
              "#46039f"
             ],
             [
              0.2222222222222222,
              "#7201a8"
             ],
             [
              0.3333333333333333,
              "#9c179e"
             ],
             [
              0.4444444444444444,
              "#bd3786"
             ],
             [
              0.5555555555555556,
              "#d8576b"
             ],
             [
              0.6666666666666666,
              "#ed7953"
             ],
             [
              0.7777777777777778,
              "#fb9f3a"
             ],
             [
              0.8888888888888888,
              "#fdca26"
             ],
             [
              1,
              "#f0f921"
             ]
            ],
            "type": "histogram2d"
           }
          ],
          "histogram2dcontour": [
           {
            "colorbar": {
             "outlinewidth": 0,
             "ticks": ""
            },
            "colorscale": [
             [
              0,
              "#0d0887"
             ],
             [
              0.1111111111111111,
              "#46039f"
             ],
             [
              0.2222222222222222,
              "#7201a8"
             ],
             [
              0.3333333333333333,
              "#9c179e"
             ],
             [
              0.4444444444444444,
              "#bd3786"
             ],
             [
              0.5555555555555556,
              "#d8576b"
             ],
             [
              0.6666666666666666,
              "#ed7953"
             ],
             [
              0.7777777777777778,
              "#fb9f3a"
             ],
             [
              0.8888888888888888,
              "#fdca26"
             ],
             [
              1,
              "#f0f921"
             ]
            ],
            "type": "histogram2dcontour"
           }
          ],
          "mesh3d": [
           {
            "colorbar": {
             "outlinewidth": 0,
             "ticks": ""
            },
            "type": "mesh3d"
           }
          ],
          "parcoords": [
           {
            "line": {
             "colorbar": {
              "outlinewidth": 0,
              "ticks": ""
             }
            },
            "type": "parcoords"
           }
          ],
          "pie": [
           {
            "automargin": true,
            "type": "pie"
           }
          ],
          "scatter": [
           {
            "fillpattern": {
             "fillmode": "overlay",
             "size": 10,
             "solidity": 0.2
            },
            "type": "scatter"
           }
          ],
          "scatter3d": [
           {
            "line": {
             "colorbar": {
              "outlinewidth": 0,
              "ticks": ""
             }
            },
            "marker": {
             "colorbar": {
              "outlinewidth": 0,
              "ticks": ""
             }
            },
            "type": "scatter3d"
           }
          ],
          "scattercarpet": [
           {
            "marker": {
             "colorbar": {
              "outlinewidth": 0,
              "ticks": ""
             }
            },
            "type": "scattercarpet"
           }
          ],
          "scattergeo": [
           {
            "marker": {
             "colorbar": {
              "outlinewidth": 0,
              "ticks": ""
             }
            },
            "type": "scattergeo"
           }
          ],
          "scattergl": [
           {
            "marker": {
             "colorbar": {
              "outlinewidth": 0,
              "ticks": ""
             }
            },
            "type": "scattergl"
           }
          ],
          "scattermapbox": [
           {
            "marker": {
             "colorbar": {
              "outlinewidth": 0,
              "ticks": ""
             }
            },
            "type": "scattermapbox"
           }
          ],
          "scatterpolar": [
           {
            "marker": {
             "colorbar": {
              "outlinewidth": 0,
              "ticks": ""
             }
            },
            "type": "scatterpolar"
           }
          ],
          "scatterpolargl": [
           {
            "marker": {
             "colorbar": {
              "outlinewidth": 0,
              "ticks": ""
             }
            },
            "type": "scatterpolargl"
           }
          ],
          "scatterternary": [
           {
            "marker": {
             "colorbar": {
              "outlinewidth": 0,
              "ticks": ""
             }
            },
            "type": "scatterternary"
           }
          ],
          "surface": [
           {
            "colorbar": {
             "outlinewidth": 0,
             "ticks": ""
            },
            "colorscale": [
             [
              0,
              "#0d0887"
             ],
             [
              0.1111111111111111,
              "#46039f"
             ],
             [
              0.2222222222222222,
              "#7201a8"
             ],
             [
              0.3333333333333333,
              "#9c179e"
             ],
             [
              0.4444444444444444,
              "#bd3786"
             ],
             [
              0.5555555555555556,
              "#d8576b"
             ],
             [
              0.6666666666666666,
              "#ed7953"
             ],
             [
              0.7777777777777778,
              "#fb9f3a"
             ],
             [
              0.8888888888888888,
              "#fdca26"
             ],
             [
              1,
              "#f0f921"
             ]
            ],
            "type": "surface"
           }
          ],
          "table": [
           {
            "cells": {
             "fill": {
              "color": "#EBF0F8"
             },
             "line": {
              "color": "white"
             }
            },
            "header": {
             "fill": {
              "color": "#C8D4E3"
             },
             "line": {
              "color": "white"
             }
            },
            "type": "table"
           }
          ]
         },
         "layout": {
          "annotationdefaults": {
           "arrowcolor": "#2a3f5f",
           "arrowhead": 0,
           "arrowwidth": 1
          },
          "autotypenumbers": "strict",
          "coloraxis": {
           "colorbar": {
            "outlinewidth": 0,
            "ticks": ""
           }
          },
          "colorscale": {
           "diverging": [
            [
             0,
             "#8e0152"
            ],
            [
             0.1,
             "#c51b7d"
            ],
            [
             0.2,
             "#de77ae"
            ],
            [
             0.3,
             "#f1b6da"
            ],
            [
             0.4,
             "#fde0ef"
            ],
            [
             0.5,
             "#f7f7f7"
            ],
            [
             0.6,
             "#e6f5d0"
            ],
            [
             0.7,
             "#b8e186"
            ],
            [
             0.8,
             "#7fbc41"
            ],
            [
             0.9,
             "#4d9221"
            ],
            [
             1,
             "#276419"
            ]
           ],
           "sequential": [
            [
             0,
             "#0d0887"
            ],
            [
             0.1111111111111111,
             "#46039f"
            ],
            [
             0.2222222222222222,
             "#7201a8"
            ],
            [
             0.3333333333333333,
             "#9c179e"
            ],
            [
             0.4444444444444444,
             "#bd3786"
            ],
            [
             0.5555555555555556,
             "#d8576b"
            ],
            [
             0.6666666666666666,
             "#ed7953"
            ],
            [
             0.7777777777777778,
             "#fb9f3a"
            ],
            [
             0.8888888888888888,
             "#fdca26"
            ],
            [
             1,
             "#f0f921"
            ]
           ],
           "sequentialminus": [
            [
             0,
             "#0d0887"
            ],
            [
             0.1111111111111111,
             "#46039f"
            ],
            [
             0.2222222222222222,
             "#7201a8"
            ],
            [
             0.3333333333333333,
             "#9c179e"
            ],
            [
             0.4444444444444444,
             "#bd3786"
            ],
            [
             0.5555555555555556,
             "#d8576b"
            ],
            [
             0.6666666666666666,
             "#ed7953"
            ],
            [
             0.7777777777777778,
             "#fb9f3a"
            ],
            [
             0.8888888888888888,
             "#fdca26"
            ],
            [
             1,
             "#f0f921"
            ]
           ]
          },
          "colorway": [
           "#636efa",
           "#EF553B",
           "#00cc96",
           "#ab63fa",
           "#FFA15A",
           "#19d3f3",
           "#FF6692",
           "#B6E880",
           "#FF97FF",
           "#FECB52"
          ],
          "font": {
           "color": "#2a3f5f"
          },
          "geo": {
           "bgcolor": "white",
           "lakecolor": "white",
           "landcolor": "#E5ECF6",
           "showlakes": true,
           "showland": true,
           "subunitcolor": "white"
          },
          "hoverlabel": {
           "align": "left"
          },
          "hovermode": "closest",
          "mapbox": {
           "style": "light"
          },
          "paper_bgcolor": "white",
          "plot_bgcolor": "#E5ECF6",
          "polar": {
           "angularaxis": {
            "gridcolor": "white",
            "linecolor": "white",
            "ticks": ""
           },
           "bgcolor": "#E5ECF6",
           "radialaxis": {
            "gridcolor": "white",
            "linecolor": "white",
            "ticks": ""
           }
          },
          "scene": {
           "xaxis": {
            "backgroundcolor": "#E5ECF6",
            "gridcolor": "white",
            "gridwidth": 2,
            "linecolor": "white",
            "showbackground": true,
            "ticks": "",
            "zerolinecolor": "white"
           },
           "yaxis": {
            "backgroundcolor": "#E5ECF6",
            "gridcolor": "white",
            "gridwidth": 2,
            "linecolor": "white",
            "showbackground": true,
            "ticks": "",
            "zerolinecolor": "white"
           },
           "zaxis": {
            "backgroundcolor": "#E5ECF6",
            "gridcolor": "white",
            "gridwidth": 2,
            "linecolor": "white",
            "showbackground": true,
            "ticks": "",
            "zerolinecolor": "white"
           }
          },
          "shapedefaults": {
           "line": {
            "color": "#2a3f5f"
           }
          },
          "ternary": {
           "aaxis": {
            "gridcolor": "white",
            "linecolor": "white",
            "ticks": ""
           },
           "baxis": {
            "gridcolor": "white",
            "linecolor": "white",
            "ticks": ""
           },
           "bgcolor": "#E5ECF6",
           "caxis": {
            "gridcolor": "white",
            "linecolor": "white",
            "ticks": ""
           }
          },
          "title": {
           "x": 0.05
          },
          "xaxis": {
           "automargin": true,
           "gridcolor": "white",
           "linecolor": "white",
           "ticks": "",
           "title": {
            "standoff": 15
           },
           "zerolinecolor": "white",
           "zerolinewidth": 2
          },
          "yaxis": {
           "automargin": true,
           "gridcolor": "white",
           "linecolor": "white",
           "ticks": "",
           "title": {
            "standoff": 15
           },
           "zerolinecolor": "white",
           "zerolinewidth": 2
          }
         }
        },
        "title": {
         "text": "BTC Closing Price Prediction"
        },
        "width": 800,
        "xaxis": {
         "title": {
          "text": "Date"
         }
        },
        "yaxis": {
         "title": {
          "text": "Close"
         }
        }
       }
      }
     },
     "metadata": {},
     "output_type": "display_data"
    }
   ],
   "source": [
    "import plotly.graph_objs as go\n",
    "from datetime import datetime, timedelta\n",
    "\n",
    "start_date = datetime(2023, 6, 1)\n",
    "x_values = [(start_date + timedelta(days=i)).strftime('%Y-%m-%d') for i in range(60)]\n",
    "fig = go.Figure()\n",
    "fig.add_trace(go.Scatter(x=x_values, y=y_pred, mode='lines'))\n",
    "fig.update_layout(\n",
    "    title='BTC Closing Price Prediction',\n",
    "    xaxis_title='Date',\n",
    "    yaxis_title='Close',\n",
    "    height=600,\n",
    "    width=800  # Adjust the width to achieve a 3:4 aspect ratio\n",
    ")\n",
    "fig.show()\n"
   ]
  },
  {
   "cell_type": "code",
   "execution_count": 17,
   "metadata": {},
   "outputs": [
    {
     "data": {
      "image/png": "[encoded data removed]",
      "text/plain": [
       "<Figure size 1000x800 with 1 Axes>"
      ]
     },
     "metadata": {},
     "output_type": "display_data"
    }
   ],
   "source": [
    "import matplotlib.pyplot as plt\n",
    "import seaborn as sns\n",
    "from sklearn.linear_model import HuberRegressor\n",
    "\n",
    "clf = HuberRegressor()\n",
    "\n",
    "clf.fit(X[['high', 'low', 'open']], y)\n",
    "\n",
    "feature_importance = clf.coef_\n",
    "features = ['high', 'low', 'open']\n",
    "\n",
    "feat_importances = pd.DataFrame({'feature': features, 'importance': feature_importance})\n",
    "feat_importances = feat_importances.sort_values(by='importance', ascending=False)\n",
    "\n",
    "plt.figure(figsize=(10, 8))\n",
    "sns.barplot(x='importance', y='feature', data=feat_importances)\n",
    "plt.title('BTC Feature Importance - HuberRegressor')\n",
    "plt.xlabel('Importance')\n",
    "plt.ylabel('Feature')\n",
    "plt.show()\n"
   ]
  }
 ],
 "metadata": {
  "kernelspec": {
   "display_name": "tf2-gpu",
   "language": "python",
   "name": "python3"
  },
  "language_info": {
   "codemirror_mode": {
    "name": "ipython",
    "version": 3
   },
   "file_extension": ".py",
   "mimetype": "text/x-python",
   "name": "python",
   "nbconvert_exporter": "python",
   "pygments_lexer": "ipython3",
   "version": "3.9.16"
  },
  "orig_nbformat": 4
 },
 "nbformat": 4,
 "nbformat_minor": 2
}
